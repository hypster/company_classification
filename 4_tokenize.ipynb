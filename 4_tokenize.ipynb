{
 "cells": [
  {
   "cell_type": "code",
   "execution_count": 3,
   "metadata": {
    "id": "-NSXDblCZlDC"
   },
   "outputs": [],
   "source": [
    "import os\n",
    "import pickle\n",
    "import time\n",
    "import spacy\n",
    "import matplotlib.pyplot as plt\n",
    "%matplotlib inline\n",
    "import numpy as np\n",
    "import seaborn as sns\n",
    "sns.set()\n",
    "import pandas as pd\n",
    "import collections\n",
    "import pickle\n",
    "import re\n",
    "import json\n",
    "from sklearn.feature_extraction.text import TfidfVectorizer"
   ]
  },
  {
   "cell_type": "markdown",
   "metadata": {
    "id": "C60BlivlAu3O"
   },
   "source": [
    "Load custom libraries"
   ]
  },
  {
   "cell_type": "code",
   "execution_count": 4,
   "metadata": {
    "colab": {
     "base_uri": "https://localhost:8080/"
    },
    "id": "DgklAleDsj-O",
    "outputId": "054ebb58-174c-422e-88fd-770372103ff2"
   },
   "outputs": [
    {
     "ename": "ModuleNotFoundError",
     "evalue": "No module named 'google.colab'",
     "output_type": "error",
     "traceback": [
      "\u001b[0;31m---------------------------------------------------------------------------\u001b[0m",
      "\u001b[0;31mModuleNotFoundError\u001b[0m                       Traceback (most recent call last)",
      "\u001b[0;32m<ipython-input-4-3a1403ddcd4b>\u001b[0m in \u001b[0;36m<module>\u001b[0;34m\u001b[0m\n\u001b[1;32m      1\u001b[0m \u001b[0;32mimport\u001b[0m \u001b[0mos\u001b[0m\u001b[0;34m,\u001b[0m \u001b[0msys\u001b[0m\u001b[0;34m\u001b[0m\u001b[0;34m\u001b[0m\u001b[0m\n\u001b[0;32m----> 2\u001b[0;31m \u001b[0;32mfrom\u001b[0m \u001b[0mgoogle\u001b[0m\u001b[0;34m.\u001b[0m\u001b[0mcolab\u001b[0m \u001b[0;32mimport\u001b[0m \u001b[0mdrive\u001b[0m\u001b[0;34m\u001b[0m\u001b[0;34m\u001b[0m\u001b[0m\n\u001b[0m\u001b[1;32m      3\u001b[0m \u001b[0mdrive\u001b[0m\u001b[0;34m.\u001b[0m\u001b[0mmount\u001b[0m\u001b[0;34m(\u001b[0m\u001b[0;34m'/content/drive'\u001b[0m\u001b[0;34m,\u001b[0m \u001b[0mforce_remount\u001b[0m\u001b[0;34m=\u001b[0m\u001b[0;32mTrue\u001b[0m\u001b[0;34m)\u001b[0m\u001b[0;34m\u001b[0m\u001b[0;34m\u001b[0m\u001b[0m\n\u001b[1;32m      4\u001b[0m \u001b[0mnb_path\u001b[0m \u001b[0;34m=\u001b[0m \u001b[0;34m'/content/notebooks'\u001b[0m\u001b[0;34m\u001b[0m\u001b[0;34m\u001b[0m\u001b[0m\n\u001b[1;32m      5\u001b[0m \u001b[0;31m# os.symlink('/content/drive/My Drive/Colab Notebooks', nb_path)\u001b[0m\u001b[0;34m\u001b[0m\u001b[0;34m\u001b[0m\u001b[0;34m\u001b[0m\u001b[0m\n",
      "\u001b[0;31mModuleNotFoundError\u001b[0m: No module named 'google.colab'"
     ]
    }
   ],
   "source": [
    "import os, sys\n",
    "from google.colab import drive\n",
    "drive.mount('/content/drive', force_remount=True)\n",
    "nb_path = '/content/notebooks'\n",
    "# os.symlink('/content/drive/My Drive/Colab Notebooks', nb_path)\n",
    "sys.path.insert(0,nb_path)"
   ]
  },
  {
   "cell_type": "code",
   "execution_count": 5,
   "metadata": {
    "id": "HHScMwaIwmf6"
   },
   "outputs": [],
   "source": [
    "with open('./company_data.pickle', 'rb') as f:\n",
    "  company_data = pickle.load(f)"
   ]
  },
  {
   "cell_type": "code",
   "execution_count": 6,
   "metadata": {
    "colab": {
     "base_uri": "https://localhost:8080/"
    },
    "id": "5vlFkJ8FFM1p",
    "outputId": "dd306738-f126-4dd3-c24d-d4c4b8a85fca"
   },
   "outputs": [
    {
     "data": {
      "text/plain": [
       "dict_keys(['data', 'target', 'target_names', 'name2idx', 'filename'])"
      ]
     },
     "execution_count": 6,
     "metadata": {},
     "output_type": "execute_result"
    }
   ],
   "source": [
    "company_data.keys()"
   ]
  },
  {
   "cell_type": "code",
   "execution_count": 7,
   "metadata": {
    "colab": {
     "base_uri": "https://localhost:8080/",
     "height": 368
    },
    "id": "VVEASn15sH_E",
    "outputId": "207993a0-6a92-4698-c18e-b4d274b358ab"
   },
   "outputs": [],
   "source": [
    "# uncomment if first time use\n",
    "# !pip install mxnet-cu101 --target=$nb_path \n",
    "\n",
    "import mxnet as mx\n",
    "from mxnet.gluon import nn, loss as gloss, rnn\n",
    "from mxnet.gluon import data as gdata\n",
    "from mxnet import gluon\n",
    "from mxnet import nd,init\n",
    "from mxnet.contrib import text\n",
    "from mxnet import autograd"
   ]
  },
  {
   "cell_type": "code",
   "execution_count": 8,
   "metadata": {
    "id": "iClP4pZfqBQ-"
   },
   "outputs": [],
   "source": [
    "data_dir = '/content/drive/MyDrive/nlp_data/cbs'\n",
    "def read(filename):\n",
    "  with open(os.path.join(data_dir, filename), mode='br') as f:\n",
    "    return pickle.load(f)\n",
    "def save(obj,filename):\n",
    "  with open(os.path.join(data_dir, filename), mode='wb') as f:\n",
    "    return pickle.dump(obj, f)\n"
   ]
  },
  {
   "cell_type": "code",
   "execution_count": 9,
   "metadata": {
    "colab": {
     "base_uri": "https://localhost:8080/",
     "height": 204
    },
    "id": "3zSWprgXFZGI",
    "outputId": "ecd630ed-872a-4fde-f223-601962be47ea"
   },
   "outputs": [
    {
     "data": {
      "text/html": [
       "<div>\n",
       "<style scoped>\n",
       "    .dataframe tbody tr th:only-of-type {\n",
       "        vertical-align: middle;\n",
       "    }\n",
       "\n",
       "    .dataframe tbody tr th {\n",
       "        vertical-align: top;\n",
       "    }\n",
       "\n",
       "    .dataframe thead th {\n",
       "        text-align: right;\n",
       "    }\n",
       "</style>\n",
       "<table border=\"1\" class=\"dataframe\">\n",
       "  <thead>\n",
       "    <tr style=\"text-align: right;\">\n",
       "      <th></th>\n",
       "      <th>text</th>\n",
       "      <th>target</th>\n",
       "      <th>filename</th>\n",
       "    </tr>\n",
       "  </thead>\n",
       "  <tbody>\n",
       "    <tr>\n",
       "      <th>0</th>\n",
       "      <td>Personenalarmering - Noodgevallen.com &lt;style&gt;....</td>\n",
       "      <td>9</td>\n",
       "      <td>100025</td>\n",
       "    </tr>\n",
       "    <tr>\n",
       "      <th>1</th>\n",
       "      <td>Kunst van Paul - portretten · schilderijen · t...</td>\n",
       "      <td>17</td>\n",
       "      <td>100054</td>\n",
       "    </tr>\n",
       "    <tr>\n",
       "      <th>2</th>\n",
       "      <td>Brillen, contactlezen en oogzorg - Heiming Abe...</td>\n",
       "      <td>6</td>\n",
       "      <td>100065</td>\n",
       "    </tr>\n",
       "    <tr>\n",
       "      <th>3</th>\n",
       "      <td>Leeuwens Schilderbedrijf\\t\\t\\t\\t\\t\\t\\tHome\\t\\t...</td>\n",
       "      <td>5</td>\n",
       "      <td>100133</td>\n",
       "    </tr>\n",
       "    <tr>\n",
       "      <th>4</th>\n",
       "      <td>0161 Events - Home 0161 EventsRegionale evenem...</td>\n",
       "      <td>17</td>\n",
       "      <td>100142</td>\n",
       "    </tr>\n",
       "  </tbody>\n",
       "</table>\n",
       "</div>"
      ],
      "text/plain": [
       "                                                text  target filename\n",
       "0  Personenalarmering - Noodgevallen.com <style>....       9   100025\n",
       "1  Kunst van Paul - portretten · schilderijen · t...      17   100054\n",
       "2  Brillen, contactlezen en oogzorg - Heiming Abe...       6   100065\n",
       "3  Leeuwens Schilderbedrijf\\t\\t\\t\\t\\t\\t\\tHome\\t\\t...       5   100133\n",
       "4  0161 Events - Home 0161 EventsRegionale evenem...      17   100142"
      ]
     },
     "execution_count": 9,
     "metadata": {},
     "output_type": "execute_result"
    }
   ],
   "source": [
    "df = pd.DataFrame({'text': company_data['data'], 'target': company_data['target'], 'filename': company_data['filename']})\n",
    "df.head()"
   ]
  },
  {
   "cell_type": "code",
   "execution_count": 10,
   "metadata": {
    "colab": {
     "base_uri": "https://localhost:8080/",
     "height": 204
    },
    "id": "fOep6vIxG-pA",
    "outputId": "730b0ff0-5843-4b87-e08f-975b89b62f4b"
   },
   "outputs": [
    {
     "data": {
      "text/html": [
       "<div>\n",
       "<style scoped>\n",
       "    .dataframe tbody tr th:only-of-type {\n",
       "        vertical-align: middle;\n",
       "    }\n",
       "\n",
       "    .dataframe tbody tr th {\n",
       "        vertical-align: top;\n",
       "    }\n",
       "\n",
       "    .dataframe thead th {\n",
       "        text-align: right;\n",
       "    }\n",
       "</style>\n",
       "<table border=\"1\" class=\"dataframe\">\n",
       "  <thead>\n",
       "    <tr style=\"text-align: right;\">\n",
       "      <th></th>\n",
       "      <th>text</th>\n",
       "      <th>target</th>\n",
       "      <th>filename</th>\n",
       "    </tr>\n",
       "  </thead>\n",
       "  <tbody>\n",
       "    <tr>\n",
       "      <th>11922</th>\n",
       "      <td>Home - Coach aan Boord HomeCoachingstrajectenU...</td>\n",
       "      <td>16</td>\n",
       "      <td>595570</td>\n",
       "    </tr>\n",
       "    <tr>\n",
       "      <th>4780</th>\n",
       "      <td>iMorang ICT SolutionsSterk in maatwerk softwar...</td>\n",
       "      <td>8</td>\n",
       "      <td>681629</td>\n",
       "    </tr>\n",
       "    <tr>\n",
       "      <th>13805</th>\n",
       "      <td>Enriching MomentsContact FormNameCompany nameC...</td>\n",
       "      <td>18</td>\n",
       "      <td>489353</td>\n",
       "    </tr>\n",
       "    <tr>\n",
       "      <th>6822</th>\n",
       "      <td>Me&amp;Maureen - Impact by Experience!Me and Maure...</td>\n",
       "      <td>9</td>\n",
       "      <td>459700</td>\n",
       "    </tr>\n",
       "    <tr>\n",
       "      <th>19156</th>\n",
       "      <td>info@allerleiklussen.nl 0521-589257 Toggle nav...</td>\n",
       "      <td>6</td>\n",
       "      <td>435558</td>\n",
       "    </tr>\n",
       "  </tbody>\n",
       "</table>\n",
       "</div>"
      ],
      "text/plain": [
       "                                                    text  target filename\n",
       "11922  Home - Coach aan Boord HomeCoachingstrajectenU...      16   595570\n",
       "4780   iMorang ICT SolutionsSterk in maatwerk softwar...       8   681629\n",
       "13805  Enriching MomentsContact FormNameCompany nameC...      18   489353\n",
       "6822   Me&Maureen - Impact by Experience!Me and Maure...       9   459700\n",
       "19156  info@allerleiklussen.nl 0521-589257 Toggle nav...       6   435558"
      ]
     },
     "execution_count": 10,
     "metadata": {},
     "output_type": "execute_result"
    }
   ],
   "source": [
    "df = df.sample(frac=1)\n",
    "df.head()"
   ]
  },
  {
   "cell_type": "code",
   "execution_count": 11,
   "metadata": {
    "id": "JfrXN8YMgvqI"
   },
   "outputs": [],
   "source": [
    "X, Y = list(df['text']), list(df['target'])"
   ]
  },
  {
   "cell_type": "code",
   "execution_count": 12,
   "metadata": {
    "colab": {
     "base_uri": "https://localhost:8080/"
    },
    "id": "OTTWWhE5kG-k",
    "outputId": "4ba565fe-78e3-44ad-a8b4-15848ae03668"
   },
   "outputs": [
    {
     "data": {
      "text/plain": [
       "19"
      ]
     },
     "execution_count": 12,
     "metadata": {},
     "output_type": "execute_result"
    }
   ],
   "source": [
    "out_dim = len(set(Y))\n",
    "out_dim"
   ]
  },
  {
   "cell_type": "code",
   "execution_count": 15,
   "metadata": {
    "colab": {
     "base_uri": "https://localhost:8080/",
     "height": 339
    },
    "id": "Ssn8I1Lig5nt",
    "outputId": "668415cd-e712-4398-e9bf-1a79212465f9"
   },
   "outputs": [
    {
     "name": "stderr",
     "output_type": "stream",
     "text": [
      "/usr/local/lib/python3.6/dist-packages/seaborn/_decorators.py:43: FutureWarning: Pass the following variable as a keyword arg: x. From version 0.12, the only valid positional argument will be `data`, and passing other arguments without an explicit keyword will result in an error or misinterpretation.\n",
      "  FutureWarning\n"
     ]
    },
    {
     "data": {
      "text/plain": [
       "<matplotlib.axes._subplots.AxesSubplot at 0x7f82d8193470>"
      ]
     },
     "execution_count": 15,
     "metadata": {
      "tags": []
     },
     "output_type": "execute_result"
    },
    {
     "data": {
      "image/png": "[encoded data removed]",
      "text/plain": [
       "<Figure size 432x288 with 1 Axes>"
      ]
     },
     "metadata": {
      "tags": []
     },
     "output_type": "display_data"
    }
   ],
   "source": [
    "sns.countplot(Y)"
   ]
  },
  {
   "cell_type": "code",
   "execution_count": 10,
   "metadata": {
    "id": "M8Sg0g9zjWO2"
   },
   "outputs": [],
   "source": [
    "n_train = 15000\n",
    "X_train, Y_train = X[:n_train], Y[:n_train]\n",
    "X_test, Y_test = X[n_train:], Y[n_train:]"
   ]
  },
  {
   "cell_type": "markdown",
   "metadata": {
    "id": "dQIWKBwJKECg"
   },
   "source": [
    "Dimension after tdidf"
   ]
  },
  {
   "cell_type": "code",
   "execution_count": 2,
   "metadata": {},
   "outputs": [],
   "source": [
    "import spacy\n",
    "nlp = spacy.load('nl_core_news_sm')"
   ]
  },
  {
   "cell_type": "code",
   "execution_count": 41,
   "metadata": {},
   "outputs": [
    {
     "data": {
      "text/plain": [
       "Personenalarmering"
      ]
     },
     "execution_count": 41,
     "metadata": {},
     "output_type": "execute_result"
    }
   ],
   "source": [
    "token."
   ]
  },
  {
   "cell_type": "code",
   "execution_count": null,
   "metadata": {},
   "outputs": [],
   "source": [
    "token.is"
   ]
  },
  {
   "cell_type": "code",
   "execution_count": 52,
   "metadata": {},
   "outputs": [
    {
     "name": "stdout",
     "output_type": "stream",
     "text": [
      "['tagger', 'parser', 'ner']\n"
     ]
    }
   ],
   "source": [
    "print(nlp.pipe_names)"
   ]
  },
  {
   "cell_type": "code",
   "execution_count": null,
   "metadata": {},
   "outputs": [],
   "source": []
  },
  {
   "cell_type": "code",
   "execution_count": 74,
   "metadata": {},
   "outputs": [
    {
     "name": "stdout",
     "output_type": "stream",
     "text": [
      "Finished processing 20000 docs, total time cost: 873.094s, per doc: 0.044s\n"
     ]
    }
   ],
   "source": [
    "def tokenize(texts):\n",
    "    noun_list = []\n",
    "    verb_list = []\n",
    "    start = time.time()\n",
    "    for i, doc in enumerate(nlp.pipe(texts, disable=[\"parser\", \"ner\"])):\n",
    "        nouns, verbs = [], []\n",
    "        if doc.lang_ == 'nl':\n",
    "            for token in doc:\n",
    "                if token.pos_ == \"NOUN\" and token.is_alpha and len(token) > 2:\n",
    "                    nouns.append(token.lemma_)\n",
    "                if token.pos_ == 'VERB':\n",
    "                    verbs.append(token.lemma_)\n",
    "            noun_list.append(\" \".join(nouns))\n",
    "            verb_list.append(\" \".join(verbs))\n",
    "    total_time = time.time()-start\n",
    "    print(\"Finished processing %d docs, total time cost: %.3fs, per doc: %.3fs\" %(len(texts), total_time, total_time / len(texts)))\n",
    "    return noun_list, verb_list\n",
    "    \n",
    "\n",
    "nouns , verbs = tokenize(df['text'])"
   ]
  },
  {
   "cell_type": "code",
   "execution_count": 78,
   "metadata": {},
   "outputs": [
    {
     "data": {
      "text/html": [
       "<div>\n",
       "<style scoped>\n",
       "    .dataframe tbody tr th:only-of-type {\n",
       "        vertical-align: middle;\n",
       "    }\n",
       "\n",
       "    .dataframe tbody tr th {\n",
       "        vertical-align: top;\n",
       "    }\n",
       "\n",
       "    .dataframe thead th {\n",
       "        text-align: right;\n",
       "    }\n",
       "</style>\n",
       "<table border=\"1\" class=\"dataframe\">\n",
       "  <thead>\n",
       "    <tr style=\"text-align: right;\">\n",
       "      <th></th>\n",
       "      <th>text</th>\n",
       "      <th>target</th>\n",
       "      <th>filename</th>\n",
       "      <th>nouns</th>\n",
       "      <th>verbs</th>\n",
       "    </tr>\n",
       "  </thead>\n",
       "  <tbody>\n",
       "    <tr>\n",
       "      <th>11922</th>\n",
       "      <td>Home - Coach aan Boord HomeCoachingstrajectenU...</td>\n",
       "      <td>16</td>\n",
       "      <td>595570</td>\n",
       "      <td>coach contact stuurman wal stuurman boord coac...</td>\n",
       "      <td>zijn moeten worden uitvoeren kunnen leren kunn...</td>\n",
       "    </tr>\n",
       "    <tr>\n",
       "      <th>4780</th>\n",
       "      <td>iMorang ICT SolutionsSterk in maatwerk softwar...</td>\n",
       "      <td>8</td>\n",
       "      <td>681629</td>\n",
       "      <td>solutionssterk maatwerk automatisering onderhoud</td>\n",
       "      <td></td>\n",
       "    </tr>\n",
       "    <tr>\n",
       "      <th>13805</th>\n",
       "      <td>Enriching MomentsContact FormNameCompany nameC...</td>\n",
       "      <td>18</td>\n",
       "      <td>489353</td>\n",
       "      <td>enriching formnamecompany</td>\n",
       "      <td></td>\n",
       "    </tr>\n",
       "    <tr>\n",
       "      <th>6822</th>\n",
       "      <td>Me&amp;Maureen - Impact by Experience!Me and Maure...</td>\n",
       "      <td>9</td>\n",
       "      <td>459700</td>\n",
       "      <td>storie experiencecelebrating year heinekenom b...</td>\n",
       "      <td></td>\n",
       "    </tr>\n",
       "    <tr>\n",
       "      <th>19156</th>\n",
       "      <td>info@allerleiklussen.nl 0521-589257 Toggle nav...</td>\n",
       "      <td>6</td>\n",
       "      <td>435558</td>\n",
       "      <td>overzichtschilderklussenklik overzichtallerlei...</td>\n",
       "      <td>navigationhomeallerleibuitenklussenschilderklu...</td>\n",
       "    </tr>\n",
       "  </tbody>\n",
       "</table>\n",
       "</div>"
      ],
      "text/plain": [
       "                                                    text  target filename  \\\n",
       "11922  Home - Coach aan Boord HomeCoachingstrajectenU...      16   595570   \n",
       "4780   iMorang ICT SolutionsSterk in maatwerk softwar...       8   681629   \n",
       "13805  Enriching MomentsContact FormNameCompany nameC...      18   489353   \n",
       "6822   Me&Maureen - Impact by Experience!Me and Maure...       9   459700   \n",
       "19156  info@allerleiklussen.nl 0521-589257 Toggle nav...       6   435558   \n",
       "\n",
       "                                                   nouns  \\\n",
       "11922  coach contact stuurman wal stuurman boord coac...   \n",
       "4780    solutionssterk maatwerk automatisering onderhoud   \n",
       "13805                          enriching formnamecompany   \n",
       "6822   storie experiencecelebrating year heinekenom b...   \n",
       "19156  overzichtschilderklussenklik overzichtallerlei...   \n",
       "\n",
       "                                                   verbs  \n",
       "11922  zijn moeten worden uitvoeren kunnen leren kunn...  \n",
       "4780                                                      \n",
       "13805                                                     \n",
       "6822                                                      \n",
       "19156  navigationhomeallerleibuitenklussenschilderklu...  "
      ]
     },
     "execution_count": 78,
     "metadata": {},
     "output_type": "execute_result"
    }
   ],
   "source": [
    "df['nouns'] = nouns\n",
    "df['verbs'] = verbs\n",
    "df.head()"
   ]
  },
  {
   "cell_type": "code",
   "execution_count": 84,
   "metadata": {},
   "outputs": [],
   "source": [
    "df['nouns'] = nouns\n",
    "df['verbs'] = verbs"
   ]
  },
  {
   "cell_type": "code",
   "execution_count": null,
   "metadata": {},
   "outputs": [],
   "source": [
    "with open('./noun_verb_df.pickle', 'wb+') as f:\n",
    "    df.to_pickle(f)"
   ]
  }
 ],
 "metadata": {
  "accelerator": "GPU",
  "colab": {
   "collapsed_sections": [],
   "name": "4.company_base.ipynb",
   "provenance": []
  },
  "kernelspec": {
   "display_name": "Python 3",
   "language": "python",
   "name": "python3"
  },
  "language_info": {
   "codemirror_mode": {
    "name": "ipython",
    "version": 3
   },
   "file_extension": ".py",
   "mimetype": "text/x-python",
   "name": "python",
   "nbconvert_exporter": "python",
   "pygments_lexer": "ipython3",
   "version": "3.6.12"
  }
 },
 "nbformat": 4,
 "nbformat_minor": 4
}
