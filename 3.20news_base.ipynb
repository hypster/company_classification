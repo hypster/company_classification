{
 "cells": [
  {
   "cell_type": "code",
   "execution_count": 1,
   "metadata": {
    "id": "2Ej4mGEYqPQG"
   },
   "outputs": [],
   "source": [
    "from sklearn.datasets import fetch_20newsgroups\n",
    "import collections\n",
    "import seaborn as sn\n",
    "from time import time\n",
    "import os\n",
    "import pickle\n",
    "import spacy\n",
    "import matplotlib.pyplot as plt\n",
    "import numpy as np\n",
    "import seaborn as sns\n",
    "import pandas as pd\n",
    "from sklearn.feature_extraction.text import TfidfVectorizer\n",
    "from sklearn.feature_extraction.text import CountVectorizer\n",
    "from sklearn.preprocessing import normalize\n",
    "from text_rank import Text_rank\n",
    "import spacy\n",
    "nlp = spacy.load('en_core_web_sm')\n",
    "from scipy.sparse import csr_matrix\n",
    "sn.set()"
   ]
  },
  {
   "cell_type": "markdown",
   "metadata": {
    "id": "hXJODIkg-UTy"
   },
   "source": [
    "Including the option greatly effects the model performance (about 10% increase). Model tends to overfit on the metadata."
   ]
  },
  {
   "cell_type": "code",
   "execution_count": 2,
   "metadata": {
    "colab": {
     "base_uri": "https://localhost:8080/"
    },
    "id": "iClP4pZfqBQ-",
    "outputId": "d828636d-32ef-4ea3-913b-0a4b1a445a59"
   },
   "outputs": [],
   "source": [
    "def get_20newsdata(remove_option, categories):\n",
    "  return (fetch_20newsgroups(subset='train',  categories=categories, shuffle=True, remove= remove_option, random_state=42),\n",
    "          fetch_20newsgroups(subset='test', categories=categories, shuffle=True, remove= remove_option, random_state=42))\n",
    "\n",
    "remove_option = ['headers', 'footers', 'quotes']\n",
    "categories = None\n",
    "# remove_option = ()\n",
    "# categories = ['alt.atheism','talk.religion.misc','comp.graphics','sci.space']\n",
    "out_dim = len(categories) if categories and len(categories) else 20\n",
    "data_train, data_test = get_20newsdata(remove_option, categories)"
   ]
  },
  {
   "cell_type": "code",
   "execution_count": 3,
   "metadata": {},
   "outputs": [],
   "source": [
    "def plot_conv_line(train_acc, test_acc):\n",
    "  x = np.arange(len(train_acc))\n",
    "  plt.plot(x, train_acc, label='train_acc')\n",
    "  plt.plot(x, test_acc, label='test_acc')\n",
    "  plt.legend()\n",
    "  plt.show()"
   ]
  },
  {
   "cell_type": "code",
   "execution_count": 4,
   "metadata": {},
   "outputs": [],
   "source": [
    "def LR(out_dim):\n",
    "  net = nn.Sequential()\n",
    "  net.add(nn.Dense(out_dim))\n",
    "  net.initialize(init.Xavier())\n",
    "  return net\n",
    "\n",
    "def evaluate(net, iter):\n",
    "  corr, n = 0, 0\n",
    "  for batch in iter:\n",
    "    X, y = batch\n",
    "    out = net(X)\n",
    "    corr += nd.sum(out.argmax(axis=1) == y.astype('float32')).asscalar() \n",
    "    n += y.size\n",
    "    return corr/ n\n",
    "\n",
    "def train(net, train_iter, test_iter, trainer, loss, num_epoch = 100):\n",
    "  train_acc, test_acc = [evaluate(net, train_iter)], [evaluate(net, train_iter)]\n",
    "  \n",
    "  for i in range(num_epoch):\n",
    "    start = time()\n",
    "    for batch in train_iter:\n",
    "      X, y = batch\n",
    "      with autograd.record():\n",
    "        output = net(X)\n",
    "        l_sum = loss(output, y)\n",
    "      l_sum.backward()\n",
    "      trainer.update(len(y))\n",
    "    train_acc.append(evaluate(net, train_iter))\n",
    "    test_acc.append(evaluate(net, test_iter))\n",
    "    print(\"epoch %d, train acc: %.3f, test acc: %.3f, time: %.3f\" \n",
    "          % (i+1, train_acc[-1], test_acc[-1], time() - start))\n",
    "  return (train_acc, test_acc)"
   ]
  },
  {
   "cell_type": "markdown",
   "metadata": {
    "id": "C60BlivlAu3O"
   },
   "source": [
    "Load custom libraries"
   ]
  },
  {
   "cell_type": "code",
   "execution_count": 5,
   "metadata": {
    "colab": {
     "base_uri": "https://localhost:8080/"
    },
    "id": "DgklAleDsj-O",
    "outputId": "a9cce219-ac3a-4ad0-f068-25fbf8e0dc66"
   },
   "outputs": [],
   "source": [
    "# import os, sys\n",
    "# from google.colab import drive\n",
    "# drive.mount('/content/drive')\n",
    "# nb_path = '/content/notebooks'\n",
    "# os.symlink('/content/drive/My Drive/Colab Notebooks', nb_path)\n",
    "# sys.path.insert(0,nb_path)"
   ]
  },
  {
   "cell_type": "code",
   "execution_count": 6,
   "metadata": {
    "id": "VVEASn15sH_E"
   },
   "outputs": [],
   "source": [
    "# uncomment if first time use\n",
    "# !pip install mxnet-cu101 --target=$nb_path \n",
    "\n",
    "import mxnet as mx\n",
    "from mxnet.gluon import nn, loss as gloss, rnn\n",
    "from mxnet.gluon import data as gdata\n",
    "from mxnet import gluon\n",
    "from mxnet import nd,init\n",
    "from mxnet.contrib import text\n",
    "from mxnet import autograd"
   ]
  },
  {
   "cell_type": "markdown",
   "metadata": {
    "id": "GnJHy86__Gge"
   },
   "source": [
    "Dimension after tfidf:"
   ]
  },
  {
   "cell_type": "code",
   "execution_count": 8,
   "metadata": {
    "colab": {
     "base_uri": "https://localhost:8080/"
    },
    "id": "3bM9f3sbCXS6",
    "outputId": "6ce1fe1a-27a8-4a4c-ea37-bc9bfc7eccf3"
   },
   "outputs": [
    {
     "data": {
      "text/plain": [
       "((11314, 18092), (7532, 18092))"
      ]
     },
     "execution_count": 8,
     "metadata": {},
     "output_type": "execute_result"
    }
   ],
   "source": [
    "vectorizer = TfidfVectorizer(max_df=0.5, min_df = 5)\n",
    "X_train = vectorizer.fit_transform(data_train.data)\n",
    "X_test = vectorizer.transform(data_test.data)\n",
    "X_train.shape, X_test.shape   "
   ]
  },
  {
   "cell_type": "code",
   "execution_count": 36,
   "metadata": {},
   "outputs": [],
   "source": [
    "def prepare_batch(X_train, Y_train, X_test, Y_test, batch_size = 128):\n",
    "    train_set = gdata.ArrayDataset(nd.array(X_train.toarray()), nd.array(Y_train))\n",
    "    test_set = gdata.ArrayDataset(nd.array(X_test.toarray()), nd.array(Y_test))\n",
    "    train_iter = gdata.DataLoader(train_set, shuffle=True, batch_size=batch_size)\n",
    "    test_iter = gdata.DataLoader(test_set, batch_size=batch_size)\n",
    "    return train_iter, test_iter"
   ]
  },
  {
   "cell_type": "code",
   "execution_count": 10,
   "metadata": {
    "id": "4L93jWQuG1tl"
   },
   "outputs": [],
   "source": [
    "train_iter, test_iter = prepare_batch(X_train, data_train.target, X_test, data_test.target)"
   ]
  },
  {
   "cell_type": "markdown",
   "metadata": {
    "id": "8puGUWps-42i"
   },
   "source": [
    "Training the model"
   ]
  },
  {
   "cell_type": "code",
   "execution_count": 11,
   "metadata": {
    "colab": {
     "base_uri": "https://localhost:8080/"
    },
    "id": "IWGJnpiKGKwR",
    "outputId": "d56c66d4-59f0-4c4b-ed66-ff8467292af3"
   },
   "outputs": [
    {
     "name": "stdout",
     "output_type": "stream",
     "text": [
      "epoch 1, train acc: 0.938, test acc: 0.633, time: 0.798\n",
      "epoch 2, train acc: 0.961, test acc: 0.625, time: 0.765\n",
      "epoch 3, train acc: 0.977, test acc: 0.609, time: 0.759\n",
      "epoch 4, train acc: 0.992, test acc: 0.625, time: 0.781\n",
      "epoch 5, train acc: 0.984, test acc: 0.609, time: 0.771\n",
      "epoch 6, train acc: 0.977, test acc: 0.625, time: 0.852\n",
      "epoch 7, train acc: 0.953, test acc: 0.602, time: 0.860\n",
      "epoch 8, train acc: 0.961, test acc: 0.633, time: 0.788\n",
      "epoch 9, train acc: 0.961, test acc: 0.609, time: 0.774\n",
      "epoch 10, train acc: 0.945, test acc: 0.625, time: 0.761\n"
     ]
    }
   ],
   "source": [
    "net = LR(out_dim)\n",
    "loss = gloss.SoftmaxCrossEntropyLoss()\n",
    "lr, wd, num_epoch = 0.1,0, 10\n",
    "trainer = gluon.Trainer(net.collect_params(), 'adam', {'learning_rate': lr, 'wd': wd})\n",
    "train_acc, test_acc = train(net, train_iter, test_iter, trainer, loss, num_epoch)"
   ]
  },
  {
   "cell_type": "code",
   "execution_count": 14,
   "metadata": {},
   "outputs": [],
   "source": []
  },
  {
   "cell_type": "markdown",
   "metadata": {},
   "source": [
    "### Using text rank to vectorize data"
   ]
  },
  {
   "cell_type": "markdown",
   "metadata": {},
   "source": [
    "Extract nouns from training data"
   ]
  },
  {
   "cell_type": "code",
   "execution_count": 17,
   "metadata": {},
   "outputs": [],
   "source": [
    "def get_tokens(docs, tags = ['NOUN']):\n",
    "    start = time()\n",
    "    docs = nlp.pipe([doc.replace('\\n', ' ') for doc in docs])\n",
    "    tokens = [[token.text for token in doc if token.pos_ in tags] for doc in docs]\n",
    "    print('time: %.3fs' %(time() - start))\n",
    "    return tokens "
   ]
  },
  {
   "cell_type": "code",
   "execution_count": 20,
   "metadata": {},
   "outputs": [
    {
     "name": "stdout",
     "output_type": "stream",
     "text": [
      "time: 395.512s\n"
     ]
    }
   ],
   "source": [
    "docs_train = get_tokens(data_train.data)"
   ]
  },
  {
   "cell_type": "code",
   "execution_count": 60,
   "metadata": {},
   "outputs": [],
   "source": [
    "vectorizer = CountVectorizer(binary=True, max_df = 0.5, min_df = 5) #set binary to true since we will use text rank\n",
    "X_train = vectorizer.fit_transform(' '.join([token for token in doc]) for doc in docs_train)"
   ]
  },
  {
   "cell_type": "code",
   "execution_count": 61,
   "metadata": {},
   "outputs": [
    {
     "data": {
      "text/plain": [
       "(11314, 6999)"
      ]
     },
     "execution_count": 61,
     "metadata": {},
     "output_type": "execute_result"
    }
   ],
   "source": [
    "X_train.shape"
   ]
  },
  {
   "cell_type": "code",
   "execution_count": 25,
   "metadata": {},
   "outputs": [],
   "source": [
    "# vocab = np.array([k for k,v in sorted(vectorizer.vocabulary_.items(), key = lambda x: x[1])])"
   ]
  },
  {
   "cell_type": "code",
   "execution_count": 26,
   "metadata": {},
   "outputs": [],
   "source": [
    "def get_rk_matrix(rk, vectorizer, docs, shape):\n",
    "    rows = []\n",
    "    cols = []\n",
    "    data = []\n",
    "    for i, doc in enumerate(docs):\n",
    "        weight = rk.fit(doc)\n",
    "        for k,v in weight.items():\n",
    "            if k in vectorizer.vocabulary_:\n",
    "                rows.append(i)\n",
    "                cols.append(vectorizer.vocabulary_[k])\n",
    "                data.append(v)\n",
    "    return csr_matrix((data, (rows, cols)), shape = shape)"
   ]
  },
  {
   "cell_type": "code",
   "execution_count": 27,
   "metadata": {},
   "outputs": [
    {
     "data": {
      "text/plain": [
       "((11314, 6999), (11314, 6999))"
      ]
     },
     "execution_count": 27,
     "metadata": {},
     "output_type": "execute_result"
    }
   ],
   "source": [
    "rk = Text_rank()\n",
    "rk_mat = get_rk_matrix(rk, vectorizer, docs_train, X_train.shape)\n",
    "X_train.shape,  rk_mat.shape"
   ]
  },
  {
   "cell_type": "code",
   "execution_count": 33,
   "metadata": {},
   "outputs": [
    {
     "data": {
      "text/plain": [
       "(11314, 6999)"
      ]
     },
     "execution_count": 33,
     "metadata": {},
     "output_type": "execute_result"
    }
   ],
   "source": [
    "X_train_rk = normalize(rk_mat, axis=1)\n",
    "X_train_rk.shape"
   ]
  },
  {
   "cell_type": "code",
   "execution_count": 34,
   "metadata": {},
   "outputs": [
    {
     "name": "stdout",
     "output_type": "stream",
     "text": [
      "time: 223.705s\n"
     ]
    },
    {
     "data": {
      "text/plain": [
       "(7532, 6999)"
      ]
     },
     "execution_count": 34,
     "metadata": {},
     "output_type": "execute_result"
    }
   ],
   "source": [
    "docs_test = get_tokens(data_test.data)\n",
    "X_test = vectorizer.transform(' '.join([token for token in doc]) for doc in docs_test)\n",
    "\n",
    "test_rk_mat = get_rk_matrix(rk, vectorizer, docs_test, X_test.shape)\n",
    "X_test_rk = normalize(test_rk_mat, axis=1)\n",
    "X_test_rk.shape"
   ]
  },
  {
   "cell_type": "code",
   "execution_count": 37,
   "metadata": {},
   "outputs": [
    {
     "name": "stdout",
     "output_type": "stream",
     "text": [
      "epoch 1, train acc: 0.828, test acc: 0.508, time: 0.593\n",
      "epoch 2, train acc: 0.883, test acc: 0.523, time: 0.658\n",
      "epoch 3, train acc: 0.922, test acc: 0.539, time: 0.479\n",
      "epoch 4, train acc: 0.922, test acc: 0.531, time: 0.476\n",
      "epoch 5, train acc: 0.922, test acc: 0.516, time: 0.469\n",
      "epoch 6, train acc: 0.969, test acc: 0.508, time: 0.464\n",
      "epoch 7, train acc: 0.906, test acc: 0.484, time: 0.478\n",
      "epoch 8, train acc: 0.938, test acc: 0.484, time: 0.464\n",
      "epoch 9, train acc: 0.930, test acc: 0.508, time: 0.471\n",
      "epoch 10, train acc: 0.953, test acc: 0.516, time: 0.587\n"
     ]
    }
   ],
   "source": [
    "train_iter, test_iter = prepare_batch(X_train_rk, data_train.target, X_test_rk, data_test.target)\n",
    "net = LR(out_dim)\n",
    "loss = gloss.SoftmaxCrossEntropyLoss()\n",
    "lr, wd, num_epoch = 0.1,0, 10\n",
    "trainer = gluon.Trainer(net.collect_params(), 'adam', {'learning_rate': lr, 'wd': wd})\n",
    "train_acc, test_acc = train(net, train_iter, test_iter, trainer, loss, num_epoch)"
   ]
  },
  {
   "cell_type": "code",
   "execution_count": 38,
   "metadata": {},
   "outputs": [
    {
     "data": {
      "image/png": "[encoded data removed]",
      "text/plain": [
       "<Figure size 432x288 with 1 Axes>"
      ]
     },
     "metadata": {},
     "output_type": "display_data"
    }
   ],
   "source": [
    "plot_conv_line(train_acc, test_acc)"
   ]
  },
  {
   "cell_type": "markdown",
   "metadata": {},
   "source": [
    "################################################"
   ]
  },
  {
   "cell_type": "markdown",
   "metadata": {
    "id": "HSrd8lsZ--K_"
   },
   "source": [
    "See some concrete examples when models get wrong"
   ]
  },
  {
   "cell_type": "code",
   "execution_count": null,
   "metadata": {
    "colab": {
     "base_uri": "https://localhost:8080/"
    },
    "id": "3uOE99fVz6pD",
    "outputId": "933ed74f-5c91-4827-9f29-788df4c24a92"
   },
   "outputs": [
    {
     "name": "stdout",
     "output_type": "stream",
     "text": [
      "alt.atheism: freewill, americans, deletions, guess, thing, impose, certainly, particularly, american, raining\n",
      "comp.graphics: run, csd, animation, algorithms, result, issue, lab, 2d, hi, gl\n",
      "sci.space: planets, almost, shuttle, aerospace, spacehab, galaxy, orbital, astronomy, telescope, lockheed\n",
      "talk.religion.misc: abolish, scope, observation, mr, forever, nevertheless, christian, biological, choice, regardless\n"
     ]
    }
   ],
   "source": [
    "def print_top(top=10):\n",
    "  top = nd.argsort(net[0].weight.data(), axis=1, is_ascend=False)[:, :top]\n",
    "  top = top.asnumpy().astype('int32')\n",
    "  names = [[vectorizer.get_feature_names()[idx] for idx in group] for group in top]\n",
    "  for words, label in zip(names, data_train.target_names):\n",
    "    print(f\"{label}: {', '.join(words)}\")\n",
    "print_top()"
   ]
  },
  {
   "cell_type": "code",
   "execution_count": null,
   "metadata": {
    "colab": {
     "base_uri": "https://localhost:8080/"
    },
    "id": "2iMMq2G2zmYP",
    "outputId": "11d0532b-6794-41ed-9d8b-b90e16fe0946"
   },
   "outputs": [
    {
     "data": {
      "text/plain": [
       "\n",
       "[[19.235493  14.988702  14.681735  14.531059  14.394187  14.300915\n",
       "  14.282494  14.06204   14.052764  13.966228 ]\n",
       " [16.30746   15.271486  14.122896  13.587569  13.160442  12.66065\n",
       "  12.446225  12.433228  12.137705  12.012    ]\n",
       " [16.025364  14.081513  13.506144  13.500292  13.3101635 13.262232\n",
       "  12.566684  12.345977  12.113235  11.954613 ]\n",
       " [16.317327  14.92948   14.877052  14.579246  13.740662  13.463349\n",
       "  13.094118  13.067143  13.045516  12.907101 ]]\n",
       "<NDArray 4x10 @cpu(0)>"
      ]
     },
     "execution_count": 41,
     "metadata": {
      "tags": []
     },
     "output_type": "execute_result"
    }
   ],
   "source": [
    "nd.sort(net[0].weight.data(), axis=1, is_ascend=False)[:, :10]"
   ]
  },
  {
   "cell_type": "code",
   "execution_count": null,
   "metadata": {
    "colab": {
     "base_uri": "https://localhost:8080/",
     "height": 359
    },
    "id": "DNZNLN86O1YP",
    "outputId": "6bf01dfb-a1b4-40b9-db6e-606f344907cc"
   },
   "outputs": [
    {
     "data": {
      "text/html": [
       "<div>\n",
       "<style scoped>\n",
       "    .dataframe tbody tr th:only-of-type {\n",
       "        vertical-align: middle;\n",
       "    }\n",
       "\n",
       "    .dataframe tbody tr th {\n",
       "        vertical-align: top;\n",
       "    }\n",
       "\n",
       "    .dataframe thead th {\n",
       "        text-align: right;\n",
       "    }\n",
       "</style>\n",
       "<table border=\"1\" class=\"dataframe\">\n",
       "  <thead>\n",
       "    <tr style=\"text-align: right;\">\n",
       "      <th></th>\n",
       "      <th>predict</th>\n",
       "      <th>target</th>\n",
       "    </tr>\n",
       "  </thead>\n",
       "  <tbody>\n",
       "    <tr>\n",
       "      <th>0</th>\n",
       "      <td>comp.graphics</td>\n",
       "      <td>sci.space</td>\n",
       "    </tr>\n",
       "    <tr>\n",
       "      <th>1</th>\n",
       "      <td>comp.graphics</td>\n",
       "      <td>comp.graphics</td>\n",
       "    </tr>\n",
       "    <tr>\n",
       "      <th>2</th>\n",
       "      <td>comp.graphics</td>\n",
       "      <td>comp.graphics</td>\n",
       "    </tr>\n",
       "    <tr>\n",
       "      <th>3</th>\n",
       "      <td>sci.space</td>\n",
       "      <td>comp.graphics</td>\n",
       "    </tr>\n",
       "    <tr>\n",
       "      <th>4</th>\n",
       "      <td>comp.graphics</td>\n",
       "      <td>comp.graphics</td>\n",
       "    </tr>\n",
       "    <tr>\n",
       "      <th>5</th>\n",
       "      <td>alt.atheism</td>\n",
       "      <td>comp.graphics</td>\n",
       "    </tr>\n",
       "    <tr>\n",
       "      <th>6</th>\n",
       "      <td>alt.atheism</td>\n",
       "      <td>sci.space</td>\n",
       "    </tr>\n",
       "    <tr>\n",
       "      <th>7</th>\n",
       "      <td>sci.space</td>\n",
       "      <td>sci.space</td>\n",
       "    </tr>\n",
       "    <tr>\n",
       "      <th>8</th>\n",
       "      <td>comp.graphics</td>\n",
       "      <td>alt.atheism</td>\n",
       "    </tr>\n",
       "    <tr>\n",
       "      <th>9</th>\n",
       "      <td>sci.space</td>\n",
       "      <td>sci.space</td>\n",
       "    </tr>\n",
       "  </tbody>\n",
       "</table>\n",
       "</div>"
      ],
      "text/plain": [
       "         predict         target\n",
       "0  comp.graphics      sci.space\n",
       "1  comp.graphics  comp.graphics\n",
       "2  comp.graphics  comp.graphics\n",
       "3      sci.space  comp.graphics\n",
       "4  comp.graphics  comp.graphics\n",
       "5    alt.atheism  comp.graphics\n",
       "6    alt.atheism      sci.space\n",
       "7      sci.space      sci.space\n",
       "8  comp.graphics    alt.atheism\n",
       "9      sci.space      sci.space"
      ]
     },
     "execution_count": 12,
     "metadata": {
      "tags": []
     },
     "output_type": "execute_result"
    }
   ],
   "source": [
    "def predict(net, docs, label_names, targets = None, vectorizer = None):\n",
    "  def to_label(yhats):\n",
    "    return [label_names[i] for i in yhats.astype('int32').tolist()]\n",
    "\n",
    "  if vectorizer:\n",
    "    X = vectorizer.transform(docs)\n",
    "  else:\n",
    "    X = docs\n",
    "  X = nd.array(X.toarray())\n",
    "  out = net(X)\n",
    "  yhats = out.argmax(axis = 1).asnumpy()\n",
    "  if targets is not None:\n",
    "    df = pd.DataFrame({'predict': to_label(yhats), 'target': to_label(targets)})\n",
    "  else:\n",
    "    df = pd.DataFrame({'predict': to_label(yhats)})\n",
    "  return df\n",
    "  \n",
    "predict(net, data_test.data[10:20], data_test.target_names, targets=data_test.target[:10], vectorizer=vectorizer)"
   ]
  },
  {
   "cell_type": "code",
   "execution_count": null,
   "metadata": {
    "id": "HkvRooDIc0a_"
   },
   "outputs": [],
   "source": [
    "from sklearn.linear_model import Perceptron\n",
    "from sklearn import metrics"
   ]
  },
  {
   "cell_type": "code",
   "execution_count": null,
   "metadata": {
    "colab": {
     "base_uri": "https://localhost:8080/"
    },
    "id": "66mhX9hGP8u6",
    "outputId": "afe31db1-26f4-4ff2-fd19-d79d8769d8f1"
   },
   "outputs": [
    {
     "name": "stdout",
     "output_type": "stream",
     "text": [
      "train time: 0.025s\n",
      "test time:  0.002s\n",
      "accuracy:   0.880\n"
     ]
    }
   ],
   "source": [
    "def measure(clf, X_train, y_train, X_test, y_test):\n",
    "  t0 = time.time()\n",
    "  clf.fit(X_train, y_train)\n",
    "  train_time = time.time() - t0\n",
    "  print(\"train time: %0.3fs\" % train_time)\n",
    "\n",
    "  t0 = time.time()\n",
    "  pred = clf.predict(X_test)\n",
    "  test_time = time.time() - t0\n",
    "  print(\"test time:  %0.3fs\" % test_time)\n",
    "\n",
    "  score = metrics.accuracy_score(y_test, pred)\n",
    "  print(\"accuracy:   %0.3f\" % score)\n",
    "measure(Perceptron(max_iter=50),X_train, data_train.target, X_test, data_test.target)"
   ]
  },
  {
   "cell_type": "markdown",
   "metadata": {
    "id": "WUOef7dcABjv"
   },
   "source": [
    "Tokenize the data"
   ]
  },
  {
   "cell_type": "code",
   "execution_count": null,
   "metadata": {
    "id": "eI5wfMZYr7-R"
   },
   "outputs": [],
   "source": [
    "token_train = [doc.split() for doc in data_train.data]\n",
    "token_test = [doc.split() for doc in data_test.data]\n",
    "counter = collections.Counter(token for doc in token_train for token in doc)"
   ]
  },
  {
   "cell_type": "code",
   "execution_count": null,
   "metadata": {
    "colab": {
     "base_uri": "https://localhost:8080/",
     "height": 336
    },
    "id": "RO5rhR-Psw5E",
    "outputId": "93b7585e-d19b-4920-b98f-aa938d4de5ee"
   },
   "outputs": [
    {
     "name": "stderr",
     "output_type": "stream",
     "text": [
      "/usr/local/lib/python3.6/dist-packages/seaborn/distributions.py:2557: FutureWarning: `distplot` is a deprecated function and will be removed in a future version. Please adapt your code to use either `displot` (a figure-level function with similar flexibility) or `histplot` (an axes-level function for histograms).\n",
      "  warnings.warn(msg, FutureWarning)\n"
     ]
    },
    {
     "data": {
      "text/plain": [
       "<matplotlib.axes._subplots.AxesSubplot at 0x7f31579d96d8>"
      ]
     },
     "execution_count": 16,
     "metadata": {
      "tags": []
     },
     "output_type": "execute_result"
    },
    {
     "data": {
      "image/png": "[encoded data removed]",
      "text/plain": [
       "<Figure size 432x288 with 1 Axes>"
      ]
     },
     "metadata": {
      "needs_background": "light",
      "tags": []
     },
     "output_type": "display_data"
    }
   ],
   "source": [
    "vocab = text.vocab.Vocabulary(counter, unknown_token='<unknown>', reserved_tokens=['<pad>'])\n",
    "sns.distplot([len(doc) for doc in  token_train])"
   ]
  },
  {
   "cell_type": "code",
   "execution_count": null,
   "metadata": {
    "colab": {
     "base_uri": "https://localhost:8080/",
     "height": 297
    },
    "id": "N6Y3WV4st2G2",
    "outputId": "6fe9116c-fd46-412f-d240-98ba824c50bf"
   },
   "outputs": [
    {
     "data": {
      "text/html": [
       "<div>\n",
       "<style scoped>\n",
       "    .dataframe tbody tr th:only-of-type {\n",
       "        vertical-align: middle;\n",
       "    }\n",
       "\n",
       "    .dataframe tbody tr th {\n",
       "        vertical-align: top;\n",
       "    }\n",
       "\n",
       "    .dataframe thead th {\n",
       "        text-align: right;\n",
       "    }\n",
       "</style>\n",
       "<table border=\"1\" class=\"dataframe\">\n",
       "  <thead>\n",
       "    <tr style=\"text-align: right;\">\n",
       "      <th></th>\n",
       "      <th>0</th>\n",
       "    </tr>\n",
       "  </thead>\n",
       "  <tbody>\n",
       "    <tr>\n",
       "      <th>count</th>\n",
       "      <td>2034.000000</td>\n",
       "    </tr>\n",
       "    <tr>\n",
       "      <th>mean</th>\n",
       "      <td>299.648968</td>\n",
       "    </tr>\n",
       "    <tr>\n",
       "      <th>std</th>\n",
       "      <td>561.281536</td>\n",
       "    </tr>\n",
       "    <tr>\n",
       "      <th>min</th>\n",
       "      <td>16.000000</td>\n",
       "    </tr>\n",
       "    <tr>\n",
       "      <th>25%</th>\n",
       "      <td>107.000000</td>\n",
       "    </tr>\n",
       "    <tr>\n",
       "      <th>50%</th>\n",
       "      <td>172.000000</td>\n",
       "    </tr>\n",
       "    <tr>\n",
       "      <th>75%</th>\n",
       "      <td>294.000000</td>\n",
       "    </tr>\n",
       "    <tr>\n",
       "      <th>max</th>\n",
       "      <td>9168.000000</td>\n",
       "    </tr>\n",
       "  </tbody>\n",
       "</table>\n",
       "</div>"
      ],
      "text/plain": [
       "                 0\n",
       "count  2034.000000\n",
       "mean    299.648968\n",
       "std     561.281536\n",
       "min      16.000000\n",
       "25%     107.000000\n",
       "50%     172.000000\n",
       "75%     294.000000\n",
       "max    9168.000000"
      ]
     },
     "execution_count": 17,
     "metadata": {
      "tags": []
     },
     "output_type": "execute_result"
    }
   ],
   "source": [
    "df = pd.DataFrame([len(doc) for doc in  token_train])\n",
    "df.describe()"
   ]
  },
  {
   "cell_type": "code",
   "execution_count": null,
   "metadata": {
    "id": "pqCM3yZpYwW4"
   },
   "outputs": [],
   "source": [
    "# TODO: contains 0 length doc!"
   ]
  },
  {
   "cell_type": "code",
   "execution_count": null,
   "metadata": {
    "id": "Caq4KdxetG-Q"
   },
   "outputs": [],
   "source": [
    "def pad(x, max_l):\n",
    "    return x[:max_l] if len(x) > max_l else x + [\n",
    "        vocab.token_to_idx['<pad>']] * (max_l - len(x))\n",
    "\n",
    "def token2idx(tokens, vocab): \n",
    "    indices = []\n",
    "    max_l = 300   # this is estimated by data distribution\n",
    "    for doc in tokens:\n",
    "       indices.append(pad(vocab.to_indices(doc), max_l))\n",
    "    return indices\n",
    "\n",
    "X_train = token2idx(token_train, vocab)\n",
    "\n",
    "X_test = token2idx(token_test, vocab)"
   ]
  },
  {
   "cell_type": "code",
   "execution_count": null,
   "metadata": {
    "colab": {
     "base_uri": "https://localhost:8080/"
    },
    "id": "rKmQlDmYu08u",
    "outputId": "85a525ae-dc8e-49b1-9158-725619745add"
   },
   "outputs": [
    {
     "data": {
      "text/plain": [
       "(2034, 1353)"
      ]
     },
     "execution_count": 20,
     "metadata": {
      "tags": []
     },
     "output_type": "execute_result"
    }
   ],
   "source": [
    "len(token_train), len(token_test)"
   ]
  },
  {
   "cell_type": "code",
   "execution_count": null,
   "metadata": {
    "colab": {
     "base_uri": "https://localhost:8080/",
     "height": 282
    },
    "id": "VWdaGwyrvFRf",
    "outputId": "eab703e5-c439-4557-ac06-43d96201b783"
   },
   "outputs": [
    {
     "data": {
      "text/plain": [
       "<matplotlib.axes._subplots.AxesSubplot at 0x7f315635e048>"
      ]
     },
     "execution_count": 21,
     "metadata": {
      "tags": []
     },
     "output_type": "execute_result"
    },
    {
     "data": {
      "image/png": "[encoded data removed]",
      "text/plain": [
       "<Figure size 432x288 with 1 Axes>"
      ]
     },
     "metadata": {
      "needs_background": "light",
      "tags": []
     },
     "output_type": "display_data"
    }
   ],
   "source": [
    "sns.histplot(data_train.target)"
   ]
  },
  {
   "cell_type": "code",
   "execution_count": null,
   "metadata": {},
   "outputs": [],
   "source": []
  },
  {
   "cell_type": "code",
   "execution_count": null,
   "metadata": {
    "id": "n7mKctUAubFJ"
   },
   "outputs": [],
   "source": [
    "batch_size = 32\n",
    "\n",
    "train_set = gdata.ArrayDataset(X_train,data_train.target.tolist())\n",
    "test_set = gdata.ArrayDataset(X_test, data_test.target.tolist())\n",
    "train_iter = gdata.DataLoader(train_set, batch_size, shuffle=True)\n",
    "test_iter = gdata.DataLoader(test_set, batch_size)\n",
    "\n",
    "net = LR(out_dim)\n",
    "loss = gloss.SoftmaxCrossEntropyLoss()\n",
    "lr, wd, num_epoch = 0.1,0, 10\n",
    "trainer = gluon.Trainer(net.collect_params(), 'adam', {'learning_rate': lr, 'wd': wd})\n",
    "train_acc, test_acc = train(net, train_iter, test_iter, trainer, loss, num_epoch)"
   ]
  },
  {
   "cell_type": "code",
   "execution_count": null,
   "metadata": {
    "id": "tDaNVX1dv5Il"
   },
   "outputs": [],
   "source": [
    "class RNN(nn.Block):\n",
    "    def __init__(self, vocab, embed_size, num_hiddens, num_layers, output_dim, **kwargs):\n",
    "        super(RNN, self).__init__(**kwargs)\n",
    "        \n",
    "        self.embedding = nn.Embedding(len(vocab), embed_size)\n",
    "        self.encoder = rnn.LSTM(num_hiddens, num_layers=num_layers,\n",
    "                                input_size=embed_size, dropout=0.5)\n",
    "        self.dropout = nn.Dropout(0.5)\n",
    "        self.decoder = nn.Dense(output_dim)\n",
    "\n",
    "    def forward(self, inputs):\n",
    "        embeddings = self.embedding(inputs.T)\n",
    "        # outputs = self.encoder(nd.one_hot(inputs.T, len(vocab)))\n",
    "        outputs = self.encoder(embeddings)\n",
    "        outs = self.decoder(outputs[-1])\n",
    "        return self.dropout(outs)"
   ]
  },
  {
   "cell_type": "code",
   "execution_count": null,
   "metadata": {
    "colab": {
     "base_uri": "https://localhost:8080/"
    },
    "id": "Iqd0QAqi0gGR",
    "outputId": "40e4f72f-15e6-4985-96d5-2dfa8bb3ca86"
   },
   "outputs": [
    {
     "data": {
      "text/plain": [
       "['glove.42B.300d.txt',\n",
       " 'glove.6B.50d.txt',\n",
       " 'glove.6B.100d.txt',\n",
       " 'glove.6B.200d.txt',\n",
       " 'glove.6B.300d.txt',\n",
       " 'glove.840B.300d.txt',\n",
       " 'glove.twitter.27B.25d.txt',\n",
       " 'glove.twitter.27B.50d.txt',\n",
       " 'glove.twitter.27B.100d.txt',\n",
       " 'glove.twitter.27B.200d.txt']"
      ]
     },
     "execution_count": 24,
     "metadata": {
      "tags": []
     },
     "output_type": "execute_result"
    }
   ],
   "source": [
    "text.embedding.get_pretrained_file_names('glove')"
   ]
  },
  {
   "cell_type": "code",
   "execution_count": null,
   "metadata": {
    "colab": {
     "base_uri": "https://localhost:8080/"
    },
    "id": "Fj5EAE8b0Z2_",
    "outputId": "06be3922-ac49-4a47-8058-078e7a4f927b"
   },
   "outputs": [
    {
     "name": "stdout",
     "output_type": "stream",
     "text": [
      "Downloading /root/.mxnet/embeddings/glove/glove.6B.zip from https://apache-mxnet.s3-accelerate.dualstack.amazonaws.com/gluon/embeddings/glove/glove.6B.zip...\n"
     ]
    }
   ],
   "source": [
    "glove_embedding = text.embedding.create(\n",
    "    'glove', pretrained_file_name='glove.6B.100d.txt', vocabulary=vocab)"
   ]
  },
  {
   "cell_type": "code",
   "execution_count": null,
   "metadata": {
    "colab": {
     "base_uri": "https://localhost:8080/"
    },
    "id": "tvpGxkT70qY9",
    "outputId": "1865aa0d-3065-41f0-874e-cc27f5b34c82"
   },
   "outputs": [
    {
     "data": {
      "text/plain": [
       "['<unknown>', '<pad>', 'the', 'of', 'to', 'a', 'and', 'is', 'that', 'in']"
      ]
     },
     "execution_count": 26,
     "metadata": {
      "tags": []
     },
     "output_type": "execute_result"
    }
   ],
   "source": [
    "glove_embedding.idx_to_token[:10]"
   ]
  },
  {
   "cell_type": "code",
   "execution_count": null,
   "metadata": {
    "id": "iH_gkz9rwLgZ"
   },
   "outputs": [],
   "source": []
  },
  {
   "cell_type": "code",
   "execution_count": null,
   "metadata": {
    "id": "y46OOGNGwWOD"
   },
   "outputs": [],
   "source": [
    "def evaluate_accuracy(net, iter):\n",
    "  acc_sum = 0\n",
    "  n = 0\n",
    "  for i, batch in enumerate(iter):\n",
    "    y_hats = net(X)\n",
    "    acc_sum += (y_hats.argmax(axis=1) == y.astype('float32')).sum().asscalar()\n",
    "    n += y.size\n",
    "  # print(acc_sum, n)\n",
    "  return acc_sum / n\n",
    "\n",
    "def train(train_iter, test_iter, net, loss, trainer_weight, trainer_bias, ctx, num_epochs):\n",
    "    \"\"\"Train and evaluate a model.\"\"\"\n",
    "    print('training on', ctx)\n",
    "    for epoch in range(num_epochs):\n",
    "        train_l_sum, train_acc_sum, n, m, start = 0.0, 0.0, 0, 0, time.time()\n",
    "        for i, batch in enumerate(train_iter):\n",
    "            X,y = batch\n",
    "            with autograd.record():\n",
    "                y_hats = net(X)\n",
    "                ls = loss(y_hats, y)\n",
    "                ls.backward()\n",
    "            trainer_weight.step(batch_size)\n",
    "            trainer_bias.step(batch_size)\n",
    "            train_l_sum += ls.sum().asscalar()\n",
    "            n += ls.size\n",
    "            # train_acc_sum += (y_hats.argmax(axis=1) == y.astype('float32')).sum().asscalar()\n",
    "            # m += y.size\n",
    "        # if (epoch+1) % 5 == 0:\n",
    "        train_acc = evaluate_accuracy(net, train_iter, ctx)\n",
    "        test_acc = evaluate_accuracy(net, test_iter, ctx)\n",
    "        print('epoch %d, loss %.4f, train acc %.3f, test acc %.3f, time %.1f sec'\n",
    "              % (epoch + 1, train_l_sum / n, train_acc, test_acc,\n",
    "                time.time() - start))"
   ]
  },
  {
   "cell_type": "code",
   "execution_count": null,
   "metadata": {
    "colab": {
     "base_uri": "https://localhost:8080/"
    },
    "id": "GQ7Heqljw0_S",
    "outputId": "bcb26179-4ae4-40b8-bbae-c3b22d52effc"
   },
   "outputs": [
    {
     "name": "stdout",
     "output_type": "stream",
     "text": [
      "(32, 300)\n"
     ]
    }
   ],
   "source": [
    "for x,y in train_iter:\n",
    "  print(x.shape)\n",
    "  break"
   ]
  },
  {
   "cell_type": "code",
   "execution_count": null,
   "metadata": {
    "id": "5cTOb9OR_cvV"
   },
   "outputs": [],
   "source": [
    "def get_net():\n",
    "  embed_size, num_hiddens, num_layers, output_dim, ctx = 100, 20, 1, 4, mx.gpu()\n",
    "  net = RNN(vocab, embed_size, num_hiddens, num_layers, output_dim)\n",
    "  net.initialize(init.Xavier(), ctx=ctx, force_reinit=True)\n",
    "  net.embedding.weight.set_data(glove_embedding.idx_to_vec)\n",
    "  net.embedding.collect_params().setattr('grad_req', 'null')\n",
    "  return net\n"
   ]
  },
  {
   "cell_type": "code",
   "execution_count": null,
   "metadata": {
    "colab": {
     "base_uri": "https://localhost:8080/",
     "height": 375
    },
    "id": "WEstItxWAZve",
    "outputId": "a57f2f0d-c51d-43f8-d946-2ea5fd6863b1"
   },
   "outputs": [
    {
     "ename": "MXNetError",
     "evalue": "ignored",
     "output_type": "error",
     "traceback": [
      "\u001b[0;31m---------------------------------------------------------------------------\u001b[0m",
      "\u001b[0;31mMXNetError\u001b[0m                                Traceback (most recent call last)",
      "\u001b[0;32m<ipython-input-30-8e953f5b6afa>\u001b[0m in \u001b[0;36m<module>\u001b[0;34m()\u001b[0m\n\u001b[0;32m----> 1\u001b[0;31m \u001b[0mnet\u001b[0m \u001b[0;34m=\u001b[0m \u001b[0mget_net\u001b[0m\u001b[0;34m(\u001b[0m\u001b[0;34m)\u001b[0m\u001b[0;34m\u001b[0m\u001b[0;34m\u001b[0m\u001b[0m\n\u001b[0m\u001b[1;32m      2\u001b[0m \u001b[0mctx\u001b[0m \u001b[0;34m=\u001b[0m \u001b[0mmx\u001b[0m\u001b[0;34m.\u001b[0m\u001b[0mgpu\u001b[0m\u001b[0;34m(\u001b[0m\u001b[0;34m)\u001b[0m\u001b[0;34m\u001b[0m\u001b[0;34m\u001b[0m\u001b[0m\n\u001b[1;32m      3\u001b[0m \u001b[0mevaluate_accuracy\u001b[0m\u001b[0;34m(\u001b[0m\u001b[0mnet\u001b[0m\u001b[0;34m,\u001b[0m \u001b[0mtrain_iter\u001b[0m\u001b[0;34m,\u001b[0m \u001b[0mctx\u001b[0m\u001b[0;34m)\u001b[0m\u001b[0;34m\u001b[0m\u001b[0;34m\u001b[0m\u001b[0m\n",
      "\u001b[0;32m<ipython-input-29-21f1be7ecd07>\u001b[0m in \u001b[0;36mget_net\u001b[0;34m()\u001b[0m\n\u001b[1;32m      2\u001b[0m   \u001b[0membed_size\u001b[0m\u001b[0;34m,\u001b[0m \u001b[0mnum_hiddens\u001b[0m\u001b[0;34m,\u001b[0m \u001b[0mnum_layers\u001b[0m\u001b[0;34m,\u001b[0m \u001b[0moutput_dim\u001b[0m\u001b[0;34m,\u001b[0m \u001b[0mctx\u001b[0m \u001b[0;34m=\u001b[0m \u001b[0;36m100\u001b[0m\u001b[0;34m,\u001b[0m \u001b[0;36m20\u001b[0m\u001b[0;34m,\u001b[0m \u001b[0;36m1\u001b[0m\u001b[0;34m,\u001b[0m \u001b[0;36m4\u001b[0m\u001b[0;34m,\u001b[0m \u001b[0mmx\u001b[0m\u001b[0;34m.\u001b[0m\u001b[0mgpu\u001b[0m\u001b[0;34m(\u001b[0m\u001b[0;34m)\u001b[0m\u001b[0;34m\u001b[0m\u001b[0;34m\u001b[0m\u001b[0m\n\u001b[1;32m      3\u001b[0m   \u001b[0mnet\u001b[0m \u001b[0;34m=\u001b[0m \u001b[0mRNN\u001b[0m\u001b[0;34m(\u001b[0m\u001b[0mvocab\u001b[0m\u001b[0;34m,\u001b[0m \u001b[0membed_size\u001b[0m\u001b[0;34m,\u001b[0m \u001b[0mnum_hiddens\u001b[0m\u001b[0;34m,\u001b[0m \u001b[0mnum_layers\u001b[0m\u001b[0;34m,\u001b[0m \u001b[0moutput_dim\u001b[0m\u001b[0;34m)\u001b[0m\u001b[0;34m\u001b[0m\u001b[0;34m\u001b[0m\u001b[0m\n\u001b[0;32m----> 4\u001b[0;31m   \u001b[0mnet\u001b[0m\u001b[0;34m.\u001b[0m\u001b[0minitialize\u001b[0m\u001b[0;34m(\u001b[0m\u001b[0minit\u001b[0m\u001b[0;34m.\u001b[0m\u001b[0mXavier\u001b[0m\u001b[0;34m(\u001b[0m\u001b[0;34m)\u001b[0m\u001b[0;34m,\u001b[0m \u001b[0mctx\u001b[0m\u001b[0;34m=\u001b[0m\u001b[0mctx\u001b[0m\u001b[0;34m,\u001b[0m \u001b[0mforce_reinit\u001b[0m\u001b[0;34m=\u001b[0m\u001b[0;32mTrue\u001b[0m\u001b[0;34m)\u001b[0m\u001b[0;34m\u001b[0m\u001b[0;34m\u001b[0m\u001b[0m\n\u001b[0m\u001b[1;32m      5\u001b[0m   \u001b[0mnet\u001b[0m\u001b[0;34m.\u001b[0m\u001b[0membedding\u001b[0m\u001b[0;34m.\u001b[0m\u001b[0mweight\u001b[0m\u001b[0;34m.\u001b[0m\u001b[0mset_data\u001b[0m\u001b[0;34m(\u001b[0m\u001b[0mglove_embedding\u001b[0m\u001b[0;34m.\u001b[0m\u001b[0midx_to_vec\u001b[0m\u001b[0;34m)\u001b[0m\u001b[0;34m\u001b[0m\u001b[0;34m\u001b[0m\u001b[0m\n\u001b[1;32m      6\u001b[0m   \u001b[0mnet\u001b[0m\u001b[0;34m.\u001b[0m\u001b[0membedding\u001b[0m\u001b[0;34m.\u001b[0m\u001b[0mcollect_params\u001b[0m\u001b[0;34m(\u001b[0m\u001b[0;34m)\u001b[0m\u001b[0;34m.\u001b[0m\u001b[0msetattr\u001b[0m\u001b[0;34m(\u001b[0m\u001b[0;34m'grad_req'\u001b[0m\u001b[0;34m,\u001b[0m \u001b[0;34m'null'\u001b[0m\u001b[0;34m)\u001b[0m\u001b[0;34m\u001b[0m\u001b[0;34m\u001b[0m\u001b[0m\n",
      "\u001b[0;32m/content/notebooks/mxnet/gluon/block.py\u001b[0m in \u001b[0;36minitialize\u001b[0;34m(self, init, ctx, verbose, force_reinit)\u001b[0m\n\u001b[1;32m    654\u001b[0m             \u001b[0mWhether\u001b[0m \u001b[0mto\u001b[0m \u001b[0mforce\u001b[0m \u001b[0mre\u001b[0m\u001b[0;34m-\u001b[0m\u001b[0minitialization\u001b[0m \u001b[0;32mif\u001b[0m \u001b[0mparameter\u001b[0m \u001b[0;32mis\u001b[0m \u001b[0malready\u001b[0m \u001b[0minitialized\u001b[0m\u001b[0;34m.\u001b[0m\u001b[0;34m\u001b[0m\u001b[0;34m\u001b[0m\u001b[0m\n\u001b[1;32m    655\u001b[0m         \"\"\"\n\u001b[0;32m--> 656\u001b[0;31m         \u001b[0mself\u001b[0m\u001b[0;34m.\u001b[0m\u001b[0mcollect_params\u001b[0m\u001b[0;34m(\u001b[0m\u001b[0;34m)\u001b[0m\u001b[0;34m.\u001b[0m\u001b[0minitialize\u001b[0m\u001b[0;34m(\u001b[0m\u001b[0minit\u001b[0m\u001b[0;34m,\u001b[0m \u001b[0mctx\u001b[0m\u001b[0;34m,\u001b[0m \u001b[0mverbose\u001b[0m\u001b[0;34m,\u001b[0m \u001b[0mforce_reinit\u001b[0m\u001b[0;34m)\u001b[0m\u001b[0;34m\u001b[0m\u001b[0;34m\u001b[0m\u001b[0m\n\u001b[0m\u001b[1;32m    657\u001b[0m \u001b[0;34m\u001b[0m\u001b[0m\n\u001b[1;32m    658\u001b[0m     \u001b[0;32mdef\u001b[0m \u001b[0mhybridize\u001b[0m\u001b[0;34m(\u001b[0m\u001b[0mself\u001b[0m\u001b[0;34m,\u001b[0m \u001b[0mactive\u001b[0m\u001b[0;34m=\u001b[0m\u001b[0;32mTrue\u001b[0m\u001b[0;34m,\u001b[0m \u001b[0;34m**\u001b[0m\u001b[0mkwargs\u001b[0m\u001b[0;34m)\u001b[0m\u001b[0;34m:\u001b[0m\u001b[0;34m\u001b[0m\u001b[0;34m\u001b[0m\u001b[0m\n",
      "\u001b[0;32m/content/notebooks/mxnet/gluon/parameter.py\u001b[0m in \u001b[0;36minitialize\u001b[0;34m(self, init, ctx, verbose, force_reinit)\u001b[0m\n\u001b[1;32m    891\u001b[0m             \u001b[0minit\u001b[0m\u001b[0;34m.\u001b[0m\u001b[0mset_verbosity\u001b[0m\u001b[0;34m(\u001b[0m\u001b[0mverbose\u001b[0m\u001b[0;34m=\u001b[0m\u001b[0mverbose\u001b[0m\u001b[0;34m)\u001b[0m\u001b[0;34m\u001b[0m\u001b[0;34m\u001b[0m\u001b[0m\n\u001b[1;32m    892\u001b[0m         \u001b[0;32mfor\u001b[0m \u001b[0m_\u001b[0m\u001b[0;34m,\u001b[0m \u001b[0mv\u001b[0m \u001b[0;32min\u001b[0m \u001b[0mself\u001b[0m\u001b[0;34m.\u001b[0m\u001b[0mitems\u001b[0m\u001b[0;34m(\u001b[0m\u001b[0;34m)\u001b[0m\u001b[0;34m:\u001b[0m\u001b[0;34m\u001b[0m\u001b[0;34m\u001b[0m\u001b[0m\n\u001b[0;32m--> 893\u001b[0;31m             \u001b[0mv\u001b[0m\u001b[0;34m.\u001b[0m\u001b[0minitialize\u001b[0m\u001b[0;34m(\u001b[0m\u001b[0;32mNone\u001b[0m\u001b[0;34m,\u001b[0m \u001b[0mctx\u001b[0m\u001b[0;34m,\u001b[0m \u001b[0minit\u001b[0m\u001b[0;34m,\u001b[0m \u001b[0mforce_reinit\u001b[0m\u001b[0;34m=\u001b[0m\u001b[0mforce_reinit\u001b[0m\u001b[0;34m)\u001b[0m\u001b[0;34m\u001b[0m\u001b[0;34m\u001b[0m\u001b[0m\n\u001b[0m\u001b[1;32m    894\u001b[0m \u001b[0;34m\u001b[0m\u001b[0m\n\u001b[1;32m    895\u001b[0m     \u001b[0;32mdef\u001b[0m \u001b[0mzero_grad\u001b[0m\u001b[0;34m(\u001b[0m\u001b[0mself\u001b[0m\u001b[0;34m)\u001b[0m\u001b[0;34m:\u001b[0m\u001b[0;34m\u001b[0m\u001b[0;34m\u001b[0m\u001b[0m\n",
      "\u001b[0;32m/content/notebooks/mxnet/gluon/parameter.py\u001b[0m in \u001b[0;36minitialize\u001b[0;34m(self, init, ctx, default_init, force_reinit)\u001b[0m\n\u001b[1;32m    467\u001b[0m \u001b[0;34m\u001b[0m\u001b[0m\n\u001b[1;32m    468\u001b[0m         \u001b[0mself\u001b[0m\u001b[0;34m.\u001b[0m\u001b[0m_deferred_init\u001b[0m \u001b[0;34m=\u001b[0m \u001b[0;34m(\u001b[0m\u001b[0minit\u001b[0m\u001b[0;34m,\u001b[0m \u001b[0mctx\u001b[0m\u001b[0;34m,\u001b[0m \u001b[0mdefault_init\u001b[0m\u001b[0;34m,\u001b[0m \u001b[0;32mNone\u001b[0m\u001b[0;34m)\u001b[0m\u001b[0;34m\u001b[0m\u001b[0;34m\u001b[0m\u001b[0m\n\u001b[0;32m--> 469\u001b[0;31m         \u001b[0mself\u001b[0m\u001b[0;34m.\u001b[0m\u001b[0m_finish_deferred_init\u001b[0m\u001b[0;34m(\u001b[0m\u001b[0;34m)\u001b[0m\u001b[0;34m\u001b[0m\u001b[0;34m\u001b[0m\u001b[0m\n\u001b[0m\u001b[1;32m    470\u001b[0m \u001b[0;34m\u001b[0m\u001b[0m\n\u001b[1;32m    471\u001b[0m     \u001b[0;32mdef\u001b[0m \u001b[0mreset_ctx\u001b[0m\u001b[0;34m(\u001b[0m\u001b[0mself\u001b[0m\u001b[0;34m,\u001b[0m \u001b[0mctx\u001b[0m\u001b[0;34m)\u001b[0m\u001b[0;34m:\u001b[0m\u001b[0;34m\u001b[0m\u001b[0;34m\u001b[0m\u001b[0m\n",
      "\u001b[0;32m/content/notebooks/mxnet/gluon/parameter.py\u001b[0m in \u001b[0;36m_finish_deferred_init\u001b[0;34m(self)\u001b[0m\n\u001b[1;32m    351\u001b[0m                     initializer.InitDesc(self.name, {'__init__': init}), data)\n\u001b[1;32m    352\u001b[0m \u001b[0;34m\u001b[0m\u001b[0m\n\u001b[0;32m--> 353\u001b[0;31m             \u001b[0mself\u001b[0m\u001b[0;34m.\u001b[0m\u001b[0m_init_impl\u001b[0m\u001b[0;34m(\u001b[0m\u001b[0mdata\u001b[0m\u001b[0;34m,\u001b[0m \u001b[0mctx\u001b[0m\u001b[0;34m)\u001b[0m\u001b[0;34m\u001b[0m\u001b[0;34m\u001b[0m\u001b[0m\n\u001b[0m\u001b[1;32m    354\u001b[0m \u001b[0;34m\u001b[0m\u001b[0m\n\u001b[1;32m    355\u001b[0m     \u001b[0;32mdef\u001b[0m \u001b[0m_init_impl\u001b[0m\u001b[0;34m(\u001b[0m\u001b[0mself\u001b[0m\u001b[0;34m,\u001b[0m \u001b[0mdata\u001b[0m\u001b[0;34m,\u001b[0m \u001b[0mctx_list\u001b[0m\u001b[0;34m)\u001b[0m\u001b[0;34m:\u001b[0m\u001b[0;34m\u001b[0m\u001b[0;34m\u001b[0m\u001b[0m\n",
      "\u001b[0;32m/content/notebooks/mxnet/gluon/parameter.py\u001b[0m in \u001b[0;36m_init_impl\u001b[0;34m(self, data, ctx_list)\u001b[0m\n\u001b[1;32m    363\u001b[0m             \u001b[0mdev_list\u001b[0m\u001b[0;34m[\u001b[0m\u001b[0mctx\u001b[0m\u001b[0;34m.\u001b[0m\u001b[0mdevice_id\u001b[0m\u001b[0;34m]\u001b[0m \u001b[0;34m=\u001b[0m \u001b[0mi\u001b[0m\u001b[0;34m\u001b[0m\u001b[0;34m\u001b[0m\u001b[0m\n\u001b[1;32m    364\u001b[0m \u001b[0;34m\u001b[0m\u001b[0m\n\u001b[0;32m--> 365\u001b[0;31m         \u001b[0mself\u001b[0m\u001b[0;34m.\u001b[0m\u001b[0m_data\u001b[0m \u001b[0;34m=\u001b[0m \u001b[0;34m[\u001b[0m\u001b[0mdata\u001b[0m\u001b[0;34m.\u001b[0m\u001b[0mcopyto\u001b[0m\u001b[0;34m(\u001b[0m\u001b[0mctx\u001b[0m\u001b[0;34m)\u001b[0m \u001b[0;32mfor\u001b[0m \u001b[0mctx\u001b[0m \u001b[0;32min\u001b[0m \u001b[0mself\u001b[0m\u001b[0;34m.\u001b[0m\u001b[0m_ctx_list\u001b[0m\u001b[0;34m]\u001b[0m\u001b[0;34m\u001b[0m\u001b[0;34m\u001b[0m\u001b[0m\n\u001b[0m\u001b[1;32m    366\u001b[0m         \u001b[0mself\u001b[0m\u001b[0;34m.\u001b[0m\u001b[0m_init_grad\u001b[0m\u001b[0;34m(\u001b[0m\u001b[0;34m)\u001b[0m\u001b[0;34m\u001b[0m\u001b[0;34m\u001b[0m\u001b[0m\n\u001b[1;32m    367\u001b[0m \u001b[0;34m\u001b[0m\u001b[0m\n",
      "\u001b[0;32m/content/notebooks/mxnet/gluon/parameter.py\u001b[0m in \u001b[0;36m<listcomp>\u001b[0;34m(.0)\u001b[0m\n\u001b[1;32m    363\u001b[0m             \u001b[0mdev_list\u001b[0m\u001b[0;34m[\u001b[0m\u001b[0mctx\u001b[0m\u001b[0;34m.\u001b[0m\u001b[0mdevice_id\u001b[0m\u001b[0;34m]\u001b[0m \u001b[0;34m=\u001b[0m \u001b[0mi\u001b[0m\u001b[0;34m\u001b[0m\u001b[0;34m\u001b[0m\u001b[0m\n\u001b[1;32m    364\u001b[0m \u001b[0;34m\u001b[0m\u001b[0m\n\u001b[0;32m--> 365\u001b[0;31m         \u001b[0mself\u001b[0m\u001b[0;34m.\u001b[0m\u001b[0m_data\u001b[0m \u001b[0;34m=\u001b[0m \u001b[0;34m[\u001b[0m\u001b[0mdata\u001b[0m\u001b[0;34m.\u001b[0m\u001b[0mcopyto\u001b[0m\u001b[0;34m(\u001b[0m\u001b[0mctx\u001b[0m\u001b[0;34m)\u001b[0m \u001b[0;32mfor\u001b[0m \u001b[0mctx\u001b[0m \u001b[0;32min\u001b[0m \u001b[0mself\u001b[0m\u001b[0;34m.\u001b[0m\u001b[0m_ctx_list\u001b[0m\u001b[0;34m]\u001b[0m\u001b[0;34m\u001b[0m\u001b[0;34m\u001b[0m\u001b[0m\n\u001b[0m\u001b[1;32m    366\u001b[0m         \u001b[0mself\u001b[0m\u001b[0;34m.\u001b[0m\u001b[0m_init_grad\u001b[0m\u001b[0;34m(\u001b[0m\u001b[0;34m)\u001b[0m\u001b[0;34m\u001b[0m\u001b[0;34m\u001b[0m\u001b[0m\n\u001b[1;32m    367\u001b[0m \u001b[0;34m\u001b[0m\u001b[0m\n",
      "\u001b[0;32m/content/notebooks/mxnet/ndarray/ndarray.py\u001b[0m in \u001b[0;36mcopyto\u001b[0;34m(self, other)\u001b[0m\n\u001b[1;32m   2664\u001b[0m         \u001b[0;32melif\u001b[0m \u001b[0misinstance\u001b[0m\u001b[0;34m(\u001b[0m\u001b[0mother\u001b[0m\u001b[0;34m,\u001b[0m \u001b[0mContext\u001b[0m\u001b[0;34m)\u001b[0m\u001b[0;34m:\u001b[0m\u001b[0;34m\u001b[0m\u001b[0;34m\u001b[0m\u001b[0m\n\u001b[1;32m   2665\u001b[0m             \u001b[0mhret\u001b[0m \u001b[0;34m=\u001b[0m \u001b[0mNDArray\u001b[0m\u001b[0;34m(\u001b[0m\u001b[0m_new_alloc_handle\u001b[0m\u001b[0;34m(\u001b[0m\u001b[0mself\u001b[0m\u001b[0;34m.\u001b[0m\u001b[0mshape\u001b[0m\u001b[0;34m,\u001b[0m \u001b[0mother\u001b[0m\u001b[0;34m,\u001b[0m \u001b[0;32mTrue\u001b[0m\u001b[0;34m,\u001b[0m \u001b[0mself\u001b[0m\u001b[0;34m.\u001b[0m\u001b[0mdtype\u001b[0m\u001b[0;34m)\u001b[0m\u001b[0;34m)\u001b[0m\u001b[0;34m\u001b[0m\u001b[0;34m\u001b[0m\u001b[0m\n\u001b[0;32m-> 2666\u001b[0;31m             \u001b[0;32mreturn\u001b[0m \u001b[0m_internal\u001b[0m\u001b[0;34m.\u001b[0m\u001b[0m_copyto\u001b[0m\u001b[0;34m(\u001b[0m\u001b[0mself\u001b[0m\u001b[0;34m,\u001b[0m \u001b[0mout\u001b[0m\u001b[0;34m=\u001b[0m\u001b[0mhret\u001b[0m\u001b[0;34m)\u001b[0m\u001b[0;34m\u001b[0m\u001b[0;34m\u001b[0m\u001b[0m\n\u001b[0m\u001b[1;32m   2667\u001b[0m         \u001b[0;32melse\u001b[0m\u001b[0;34m:\u001b[0m\u001b[0;34m\u001b[0m\u001b[0;34m\u001b[0m\u001b[0m\n\u001b[1;32m   2668\u001b[0m             \u001b[0;32mraise\u001b[0m \u001b[0mTypeError\u001b[0m\u001b[0;34m(\u001b[0m\u001b[0;34m'copyto does not support type '\u001b[0m \u001b[0;34m+\u001b[0m \u001b[0mstr\u001b[0m\u001b[0;34m(\u001b[0m\u001b[0mtype\u001b[0m\u001b[0;34m(\u001b[0m\u001b[0mother\u001b[0m\u001b[0;34m)\u001b[0m\u001b[0;34m)\u001b[0m\u001b[0;34m)\u001b[0m\u001b[0;34m\u001b[0m\u001b[0;34m\u001b[0m\u001b[0m\n",
      "\u001b[0;32m/content/notebooks/mxnet/ndarray/register.py\u001b[0m in \u001b[0;36m_copyto\u001b[0;34m(data, out, name, **kwargs)\u001b[0m\n",
      "\u001b[0;32m/content/notebooks/mxnet/_ctypes/ndarray.py\u001b[0m in \u001b[0;36m_imperative_invoke\u001b[0;34m(handle, ndargs, keys, vals, out, is_np_op, output_is_list)\u001b[0m\n\u001b[1;32m     89\u001b[0m         \u001b[0mc_str_array\u001b[0m\u001b[0;34m(\u001b[0m\u001b[0mkeys\u001b[0m\u001b[0;34m)\u001b[0m\u001b[0;34m,\u001b[0m\u001b[0;34m\u001b[0m\u001b[0;34m\u001b[0m\u001b[0m\n\u001b[1;32m     90\u001b[0m         \u001b[0mc_str_array\u001b[0m\u001b[0;34m(\u001b[0m\u001b[0;34m[\u001b[0m\u001b[0mstr\u001b[0m\u001b[0;34m(\u001b[0m\u001b[0ms\u001b[0m\u001b[0;34m)\u001b[0m \u001b[0;32mfor\u001b[0m \u001b[0ms\u001b[0m \u001b[0;32min\u001b[0m \u001b[0mvals\u001b[0m\u001b[0;34m]\u001b[0m\u001b[0;34m)\u001b[0m\u001b[0;34m,\u001b[0m\u001b[0;34m\u001b[0m\u001b[0;34m\u001b[0m\u001b[0m\n\u001b[0;32m---> 91\u001b[0;31m         ctypes.byref(out_stypes)))\n\u001b[0m\u001b[1;32m     92\u001b[0m \u001b[0;34m\u001b[0m\u001b[0m\n\u001b[1;32m     93\u001b[0m     \u001b[0mcreate_ndarray_fn\u001b[0m \u001b[0;34m=\u001b[0m \u001b[0m_global_var\u001b[0m\u001b[0;34m.\u001b[0m\u001b[0m_np_ndarray_cls\u001b[0m \u001b[0;32mif\u001b[0m \u001b[0mis_np_op\u001b[0m \u001b[0;32melse\u001b[0m \u001b[0m_global_var\u001b[0m\u001b[0;34m.\u001b[0m\u001b[0m_ndarray_cls\u001b[0m\u001b[0;34m\u001b[0m\u001b[0;34m\u001b[0m\u001b[0m\n",
      "\u001b[0;32m/content/notebooks/mxnet/base.py\u001b[0m in \u001b[0;36mcheck_call\u001b[0;34m(ret)\u001b[0m\n\u001b[1;32m    244\u001b[0m     \"\"\"\n\u001b[1;32m    245\u001b[0m     \u001b[0;32mif\u001b[0m \u001b[0mret\u001b[0m \u001b[0;34m!=\u001b[0m \u001b[0;36m0\u001b[0m\u001b[0;34m:\u001b[0m\u001b[0;34m\u001b[0m\u001b[0;34m\u001b[0m\u001b[0m\n\u001b[0;32m--> 246\u001b[0;31m         \u001b[0;32mraise\u001b[0m \u001b[0mget_last_ffi_error\u001b[0m\u001b[0;34m(\u001b[0m\u001b[0;34m)\u001b[0m\u001b[0;34m\u001b[0m\u001b[0;34m\u001b[0m\u001b[0m\n\u001b[0m\u001b[1;32m    247\u001b[0m \u001b[0;34m\u001b[0m\u001b[0m\n\u001b[1;32m    248\u001b[0m \u001b[0;34m\u001b[0m\u001b[0m\n",
      "\u001b[0;31mMXNetError\u001b[0m: Traceback (most recent call last):\n  File \"src/engine/threaded_engine.cc\", line 331\nMXNetError: Check failed: device_count_ > 0 (-1 vs. 0) : GPU usage requires at least 1 GPU"
     ]
    }
   ],
   "source": [
    "net = get_net()\n",
    "evaluate_accuracy(net, train_iter)"
   ]
  },
  {
   "cell_type": "code",
   "execution_count": null,
   "metadata": {
    "id": "yJ_B8dk4weVo"
   },
   "outputs": [],
   "source": [
    "lr, num_epochs, wd = 0.1, 10, 0\n",
    "weight_trainer = gluon.Trainer(net.collect_params('.*weight'), 'adam', {'learning_rate': lr, 'wd': wd})\n",
    "bias_trainer = gluon.Trainer(net.collect_params('.*bias'), 'adam', {'learning_rate': lr})\n",
    "loss = gloss.SoftmaxCrossEntropyLoss()\n",
    "train(train_iter, test_iter, net, loss, weight_trainer, bias_trainer, ctx, num_epochs)"
   ]
  },
  {
   "cell_type": "code",
   "execution_count": null,
   "metadata": {
    "id": "62j9optCcrRU"
   },
   "outputs": [],
   "source": []
  }
 ],
 "metadata": {
  "colab": {
   "collapsed_sections": [],
   "name": "20news_base.ipynb",
   "provenance": []
  },
  "kernelspec": {
   "display_name": "Python 3",
   "language": "python",
   "name": "python3"
  },
  "language_info": {
   "codemirror_mode": {
    "name": "ipython",
    "version": 3
   },
   "file_extension": ".py",
   "mimetype": "text/x-python",
   "name": "python",
   "nbconvert_exporter": "python",
   "pygments_lexer": "ipython3",
   "version": "3.6.12"
  }
 },
 "nbformat": 4,
 "nbformat_minor": 4
}
