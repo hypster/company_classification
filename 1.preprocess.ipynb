{
 "cells": [
  {
   "cell_type": "code",
   "execution_count": 19,
   "metadata": {},
   "outputs": [],
   "source": [
    "import os\n",
    "import pandas as pd\n",
    "from bs4 import BeautifulSoup\n",
    "import pickle"
   ]
  },
  {
   "cell_type": "markdown",
   "metadata": {},
   "source": [
    "parse the html, get classification code for the doc"
   ]
  },
  {
   "cell_type": "code",
   "execution_count": 17,
   "metadata": {},
   "outputs": [],
   "source": [
    "parent_dir = '/Users/septem/Downloads/com_data'\n",
    "data_dir = '/Volumes/Seagate Backup Plus Drive/数据/NHR_SITE'\n",
    "\n",
    "n_data = 20000\n",
    "\n",
    "df = pd.read_csv(os.path.join(parent_dir, 'id_code.csv'), sep=';', dtype='string')\n",
    "df = df.set_index('ID', drop=True, verify_integrity=True)\n",
    "\n",
    "\n",
    "def save(obj, filename):\n",
    "    with open(os.path.join(parent_dir, filename), 'wb') as f:\n",
    "        pickle.dump(obj, f)\n",
    "\n",
    "def load(filename):\n",
    "    with open(os.path.join(parent_dir, filename), 'rb') as f:\n",
    "        return pickle.load(f)\n",
    "\n",
    "def read_data():\n",
    "    _data = []\n",
    "    for file in os.listdir(data_dir):\n",
    "        _id = file.split('.')[0]\n",
    "        with open(os.path.join(data_dir, file)) as html:\n",
    "            soup = BeautifulSoup(html)\n",
    "            text = soup.get_text()\n",
    "            label = df.loc[_id]['SbicodeActueel']\n",
    "            if len(_data) < n_data:\n",
    "                _data.append((text, label))\n",
    "            else:\n",
    "                break\n",
    "    return _data"
   ]
  },
  {
   "cell_type": "code",
   "execution_count": 18,
   "metadata": {},
   "outputs": [],
   "source": [
    "save(read_data(), 'data.pickle')"
   ]
  },
  {
   "cell_type": "code",
   "execution_count": 20,
   "metadata": {},
   "outputs": [],
   "source": [
    "def get_idx_filename():\n",
    "    _l = []\n",
    "    for file in os.listdir(data_dir):\n",
    "        _id = file.split('.')[0]\n",
    "        _l.append(_id)\n",
    "    return _l\n",
    "save(get_idx_filename(), 'idx_filename.pickle')"
   ]
  },
  {
   "cell_type": "code",
   "execution_count": null,
   "metadata": {},
   "outputs": [],
   "source": []
  }
 ],
 "metadata": {
  "kernelspec": {
   "display_name": "Python 3",
   "language": "python",
   "name": "python3"
  },
  "language_info": {
   "codemirror_mode": {
    "name": "ipython",
    "version": 3
   },
   "file_extension": ".py",
   "mimetype": "text/x-python",
   "name": "python",
   "nbconvert_exporter": "python",
   "pygments_lexer": "ipython3",
   "version": "3.6.12"
  }
 },
 "nbformat": 4,
 "nbformat_minor": 4
}
