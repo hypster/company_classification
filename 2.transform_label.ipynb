{
 "cells": [
  {
   "cell_type": "code",
   "execution_count": 18,
   "metadata": {},
   "outputs": [],
   "source": [
    "import pickle\n",
    "import os\n",
    "import util\n",
    "import collections\n",
    "import matplotlib.pylab as plt\n",
    "import numpy as np\n",
    "from mxnet.contrib import text\n",
    "from mxnet import nd\n",
    "import seaborn as sns\n",
    "sns.set()\n",
    "from mxnet.gluon import data as gdata, nn\n",
    "%matplotlib inline"
   ]
  },
  {
   "cell_type": "markdown",
   "metadata": {},
   "source": [
    "Load data"
   ]
  },
  {
   "cell_type": "code",
   "execution_count": 19,
   "metadata": {},
   "outputs": [],
   "source": [
    "parent_dir = '/Users/septem/Downloads/com_data'\n",
    "data_dir = 'NHR_SITE'\n",
    "def load_data_label():    \n",
    "    data = util.load(os.path.join(parent_dir, 'data.pickle'))\n",
    "    return list(zip(*data))"
   ]
  },
  {
   "cell_type": "code",
   "execution_count": 20,
   "metadata": {},
   "outputs": [
    {
     "data": {
      "text/plain": [
       "(20000, 763)"
      ]
     },
     "execution_count": 20,
     "metadata": {},
     "output_type": "execute_result"
    }
   ],
   "source": [
    "data, labels = load_data_label()\n",
    "idx_filename = util.load(os.path.join(parent_dir, 'idx_filename.pickle'))\n",
    "len(labels),len(set(labels))"
   ]
  },
  {
   "cell_type": "code",
   "execution_count": 4,
   "metadata": {},
   "outputs": [],
   "source": [
    "counter = collections.Counter(labels)"
   ]
  },
  {
   "cell_type": "code",
   "execution_count": 141,
   "metadata": {},
   "outputs": [
    {
     "data": {
      "image/png": "[encoded data removed]",
      "text/plain": [
       "<Figure size 432x288 with 1 Axes>"
      ]
     },
     "metadata": {
      "needs_background": "light"
     },
     "output_type": "display_data"
    }
   ],
   "source": [
    "_labels, _values = zip(*counter.items())\n",
    "plt.bar(np.arange(len(_labels)), _values)\n",
    "plt.show()"
   ]
  },
  {
   "cell_type": "code",
   "execution_count": 5,
   "metadata": {},
   "outputs": [],
   "source": [
    "cls2code = util.cls2code\n",
    "\n",
    "idx2label = list(cls2code.keys())\n",
    "label2idx = {label: i for i, label in enumerate(idx2label)}\n",
    "code2label = {c: k for k,v in cls2code.items() for c in v}"
   ]
  },
  {
   "cell_type": "markdown",
   "metadata": {},
   "source": [
    "Transform label"
   ]
  },
  {
   "cell_type": "code",
   "execution_count": 6,
   "metadata": {},
   "outputs": [],
   "source": [
    "new_labels = [label2idx[code2label[code[:2]]] for code in labels]"
   ]
  },
  {
   "cell_type": "code",
   "execution_count": 145,
   "metadata": {},
   "outputs": [],
   "source": [
    "def save_company_data():\n",
    "    company_data = {}\n",
    "    company_data['data'] = data\n",
    "    company_data['target'] = new_labels\n",
    "    company_data['target_names'] = idx2label\n",
    "    company_data['name2idx'] = label2idx\n",
    "    company_data['filename'] = idx_filename\n",
    "    with open('./company_data.pickle', 'wb+') as f:\n",
    "        pickle.dump(company_data, f)\n",
    "save_company_data()"
   ]
  },
  {
   "cell_type": "markdown",
   "metadata": {},
   "source": [
    "SBI after aggregation"
   ]
  },
  {
   "cell_type": "code",
   "execution_count": 10,
   "metadata": {},
   "outputs": [
    {
     "name": "stderr",
     "output_type": "stream",
     "text": [
      "/Users/septem/opt/miniconda3/envs/da/lib/python3.6/site-packages/seaborn/_decorators.py:43: FutureWarning: Pass the following variable as a keyword arg: x. From version 0.12, the only valid positional argument will be `data`, and passing other arguments without an explicit keyword will result in an error or misinterpretation.\n",
      "  FutureWarning\n"
     ]
    },
    {
     "data": {
      "image/png": "[encoded data removed]",
      "text/plain": [
       "<Figure size 432x288 with 1 Axes>"
      ]
     },
     "metadata": {
      "needs_background": "light"
     },
     "output_type": "display_data"
    }
   ],
   "source": [
    "sns.countplot(new_labels)\n",
    "plt.savefig('label_distribution.png')"
   ]
  },
  {
   "cell_type": "code",
   "execution_count": null,
   "metadata": {},
   "outputs": [],
   "source": []
  },
  {
   "cell_type": "code",
   "execution_count": 23,
   "metadata": {},
   "outputs": [
    {
     "data": {
      "text/plain": [
       "('# words in vocab:', 41658)"
      ]
     },
     "execution_count": 23,
     "metadata": {},
     "output_type": "execute_result"
    }
   ],
   "source": [
    "# def get_tokenized_data(data):\n",
    "#     def tokenizer(text):\n",
    "#         return [tok.lower() for tok in text.split(' ')]\n",
    "#     return [tokenizer(text) for text, _ in data]\n",
    "\n",
    "# def get_vocab(data):  \n",
    "#     tokenized_data = get_tokenized_data(data)\n",
    "#     counter = collections.Counter([tk for st in tokenized_data for tk in st])\n",
    "#     return text.vocab.Vocabulary(counter, min_freq=5,\n",
    "#                                  reserved_tokens=['<pad>'])\n",
    "\n",
    "# vocab = get_vocab(train_data)\n",
    "# '# words in vocab:', len(vocab)"
   ]
  },
  {
   "cell_type": "code",
   "execution_count": 24,
   "metadata": {},
   "outputs": [],
   "source": [
    "# def preprocess(data, vocab): \n",
    "#     max_l = 500  \n",
    "#     def pad(x):\n",
    "#         return x[:max_l] if len(x) > max_l else x + [\n",
    "#             vocab.token_to_idx['<pad>']] * (max_l - len(x))\n",
    "\n",
    "#     tokenized_data = get_tokenized_data(data)\n",
    "#     features = nd.array([pad(vocab.to_indices(x)) for x in tokenized_data])\n",
    "#     labels = nd.array([label for _, label in data])\n",
    "#     return features, labels"
   ]
  },
  {
   "cell_type": "code",
   "execution_count": 25,
   "metadata": {},
   "outputs": [],
   "source": [
    "# batch_size = 64\n",
    "# train_set = gdata.ArrayDataset(*preprocess(train_data, vocab))\n",
    "# test_set = gdata.ArrayDataset(*preprocess(test_data, vocab))\n",
    "# train_iter = gdata.DataLoader(train_set, batch_size, shuffle=True)\n",
    "# test_iter = gdata.DataLoader(test_set, batch_size)"
   ]
  },
  {
   "cell_type": "code",
   "execution_count": 26,
   "metadata": {},
   "outputs": [
    {
     "name": "stdout",
     "output_type": "stream",
     "text": [
      "\n",
      "[[9.5300e+02 0.0000e+00 4.0000e+00 ... 1.0000e+00 1.0000e+00 1.0000e+00]\n",
      " [1.2364e+04 6.4710e+03 3.7955e+04 ... 1.0000e+00 1.0000e+00 1.0000e+00]\n",
      " [4.9400e+02 1.8000e+01 2.0638e+04 ... 1.0000e+00 1.0000e+00 1.0000e+00]\n",
      " ...\n",
      " [3.8155e+04 1.8000e+01 3.2700e+02 ... 1.0000e+00 1.0000e+00 1.0000e+00]\n",
      " [0.0000e+00 2.0000e+00 1.9700e+02 ... 1.0000e+00 1.0000e+00 1.0000e+00]\n",
      " [4.1710e+03 0.0000e+00 1.0000e+01 ... 1.2000e+01 7.0000e+00 1.5550e+04]]\n",
      "<NDArray 64x500 @cpu(0)>\n",
      "\n",
      "[ 6.  6. 15. 15. 12. 18. 12. 13.  9. 12. 17. 16. 12. 15.  6. 17. 15. 12.\n",
      " 17.  6. 12. 12. 12. 16. 17.  0. 16. 12.  0. 16.  9. 10.  7. 10. 12. 12.\n",
      " 12. 12. 11. 16. 18. 17.  6. 17.  6.  6. 16. 16. 10. 10. 17. 10. 16.  5.\n",
      "  9. 16. 12. 17.  6. 13.  5.  9.  6. 17.]\n",
      "<NDArray 64 @cpu(0)>\n"
     ]
    }
   ],
   "source": [
    "# for x,y in train_iter:\n",
    "#     print(x)\n",
    "#     print(y)\n",
    "#     break"
   ]
  },
  {
   "cell_type": "code",
   "execution_count": 41,
   "metadata": {},
   "outputs": [
    {
     "name": "stdout",
     "output_type": "stream",
     "text": [
      "test.pickle\n",
      ".DS_Store\n",
      "data.pickle\n",
      "idx_filename.pickle\n",
      "SBI 2008 versie 2018 engels.pdf\n",
      "NACE_REV2_20210115_114736.csv\n",
      "NACE_REV2_20210115_114521.csv\n",
      "train.pickle\n",
      "id_code.csv\n"
     ]
    }
   ],
   "source": [
    "for f in os.listdir('/Users/septem/Downloads/com_data'):\n",
    "    print(f)"
   ]
  },
  {
   "cell_type": "code",
   "execution_count": 50,
   "metadata": {},
   "outputs": [],
   "source": [
    "# parent_dir = '/Users/septem/Downloads/com_data'\n",
    "# def save(obj, filename, parent_dir = parent_dir):\n",
    "#     with open(os.path.join(parent_dir, filename), 'wb') as f:\n",
    "#         pickle.dump(obj, f)\n",
    "# save(train_data, 'train_set', parent_dir)\n",
    "# save(test_data, 'test_set', parent_dir)\n",
    "# save(vocab, 'vocab', parent_dir)"
   ]
  },
  {
   "cell_type": "code",
   "execution_count": 33,
   "metadata": {},
   "outputs": [],
   "source": [
    "# class BiRNN(nn.Block):\n",
    "#     def __init__(self, vocab, embed_size, num_hiddens, num_layers, **kwargs):\n",
    "#         super(BiRNN, self).__init__(**kwargs)\n",
    "#         self.embedding = nn.Embedding(len(vocab), embed_size)\n",
    "\n",
    "#         self.encoder = rnn.LSTM(num_hiddens, num_layers=num_layers,\n",
    "#                                 bidirectional=True, input_size=embed_size)\n",
    "#         self.decoder = nn.Dense(2)\n",
    "\n",
    "#     def forward(self, inputs):\n",
    "#         embeddings = self.embedding(inputs.T)\n",
    "#         outputs = self.encoder(embeddings)\n",
    "#         encoding = nd.concat(outputs[0], outputs[-1])\n",
    "#         outs = self.decoder(encoding)\n",
    "#         return outs"
   ]
  },
  {
   "cell_type": "code",
   "execution_count": 52,
   "metadata": {},
   "outputs": [
    {
     "data": {
      "text/plain": [
       "19"
      ]
     },
     "execution_count": 52,
     "metadata": {},
     "output_type": "execute_result"
    }
   ],
   "source": [
    "# len(set(labels))"
   ]
  },
  {
   "cell_type": "code",
   "execution_count": 64,
   "metadata": {},
   "outputs": [],
   "source": [
    "# data = train_data + test_data\n",
    "# with open('data_raw.pickle', 'wb+') as f:\n",
    "#     pickle.dump(data,f)"
   ]
  }
 ],
 "metadata": {
  "kernelspec": {
   "display_name": "Python 3",
   "language": "python",
   "name": "python3"
  },
  "language_info": {
   "codemirror_mode": {
    "name": "ipython",
    "version": 3
   },
   "file_extension": ".py",
   "mimetype": "text/x-python",
   "name": "python",
   "nbconvert_exporter": "python",
   "pygments_lexer": "ipython3",
   "version": "3.6.12"
  }
 },
 "nbformat": 4,
 "nbformat_minor": 4
}
